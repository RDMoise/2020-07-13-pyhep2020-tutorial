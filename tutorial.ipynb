{
 "cells": [
  {
   "cell_type": "markdown",
   "metadata": {},
   "source": [
    "# Welcome to PyHEP 2020!\n",
    "\n",
    "<br><br><br>\n",
    "\n",
    "Before writing this tutorial, I took a look at the survey..."
   ]
  },
  {
   "cell_type": "code",
   "execution_count": 1,
   "metadata": {},
   "outputs": [
    {
     "data": {
      "text/html": [
       "<div>\n",
       "<style scoped>\n",
       "    .dataframe tbody tr th:only-of-type {\n",
       "        vertical-align: middle;\n",
       "    }\n",
       "\n",
       "    .dataframe tbody tr th {\n",
       "        vertical-align: top;\n",
       "    }\n",
       "\n",
       "    .dataframe thead th {\n",
       "        text-align: right;\n",
       "    }\n",
       "</style>\n",
       "<table border=\"1\" class=\"dataframe\">\n",
       "  <thead>\n",
       "    <tr style=\"text-align: right;\">\n",
       "      <th></th>\n",
       "      <th>PyHEP feedback: Atlantic: 15:00 CET, 06:00 PDT, 18:30 IST, 22:00 JST</th>\n",
       "      <th>PyHEP feedback: Pacific: 00:00 CET, 15:00 PDT, 03:30 IST, 07:00 JST</th>\n",
       "      <th>PyHEP feedback: Indian Ocean: 09:00 CET, 00:00 PDT, 12:30 IST, 16:00 JST</th>\n",
       "      <th>PyHEP feedback: How did you hear about this workshop?</th>\n",
       "      <th>PyHEP feedback: What are you hoping to learn from this workshop?</th>\n",
       "      <th>Professional life: What best describes your occupation?</th>\n",
       "      <th>Professional life: What best describes the stage of your professional career?</th>\n",
       "      <th>Professional life: If you're involved in computing, what do you do?</th>\n",
       "      <th>Professional life: If you write software, what is its lifespan and scope?</th>\n",
       "      <th>Professional life: Are you associated with one or more experimental or theoretical collaborations? (E.g. ATLAS, CMS, DUNE, USQCD...)</th>\n",
       "      <th>...</th>\n",
       "      <th>Particle physics ecosystem: hepunits: https://github.com/scikit-hep/hepunits</th>\n",
       "      <th>Particle physics ecosystem: particle: https://github.com/scikit-hep/particle</th>\n",
       "      <th>Particle physics ecosystem: pyjet: https://github.com/scikit-hep/pyjet</th>\n",
       "      <th>Particle physics ecosystem: Astropy: https://www.astropy.org</th>\n",
       "      <th>Particle physics ecosystem: Geant4Py: https://nusoft.fnal.gov/larsoft/doxsvn/html/md_geant4.10.03.p03_environments_g4py_README.html</th>\n",
       "      <th>Particle physics ecosystem: luigi: https://luigi.readthedocs.io</th>\n",
       "      <th>Particle physics ecosystem: Rucio: https://rucio.readthedocs.io</th>\n",
       "      <th>Particle physics ecosystem: Gaudi: https://github.com/lgiordani/gaudi</th>\n",
       "      <th>Particle physics ecosystem: Condor: https://htcondor.readthedocs.io/en/latest/apis/python-bindings</th>\n",
       "      <th>Particle physics ecosystem: Do you regularly use any other packages that weren't listed here?</th>\n",
       "    </tr>\n",
       "  </thead>\n",
       "  <tbody>\n",
       "    <tr>\n",
       "      <th>0</th>\n",
       "      <td>Great!</td>\n",
       "      <td>BAD</td>\n",
       "      <td>Acceptable</td>\n",
       "      <td>My physics collaboration's mailing list(s)</td>\n",
       "      <td>Machine learning/deep learning toolkits; Parti...</td>\n",
       "      <td>I research particle physics (experiment, theor...</td>\n",
       "      <td>Grad student involved in research</td>\n",
       "      <td>Studies that improve the quality of reconstruc...</td>\n",
       "      <td>Deployed widely</td>\n",
       "      <td>NaN</td>\n",
       "      <td>...</td>\n",
       "      <td>NaN</td>\n",
       "      <td>NaN</td>\n",
       "      <td>NaN</td>\n",
       "      <td>NaN</td>\n",
       "      <td>NaN</td>\n",
       "      <td>NaN</td>\n",
       "      <td>NaN</td>\n",
       "      <td>NaN</td>\n",
       "      <td>NaN</td>\n",
       "      <td>NaN</td>\n",
       "    </tr>\n",
       "    <tr>\n",
       "      <th>1</th>\n",
       "      <td>Acceptable</td>\n",
       "      <td>BAD</td>\n",
       "      <td>Great!</td>\n",
       "      <td>HSF mailing lists or announcements; Word of mo...</td>\n",
       "      <td>General-purpose data analysis toolkits; Machin...</td>\n",
       "      <td>I research particle physics (experiment, theor...</td>\n",
       "      <td>Grad student involved in research</td>\n",
       "      <td>Studies that improve the quality of reconstruc...</td>\n",
       "      <td>Used in small group</td>\n",
       "      <td>NaN</td>\n",
       "      <td>...</td>\n",
       "      <td>Don't know what it is</td>\n",
       "      <td>Don't know what it is</td>\n",
       "      <td>Don't know what it is</td>\n",
       "      <td>Don't know what it is</td>\n",
       "      <td>Don't know what it is</td>\n",
       "      <td>Don't know what it is</td>\n",
       "      <td>Don't know what it is</td>\n",
       "      <td>Through dependencies only</td>\n",
       "      <td>Through dependencies only</td>\n",
       "      <td>NaN</td>\n",
       "    </tr>\n",
       "    <tr>\n",
       "      <th>2</th>\n",
       "      <td>Great!</td>\n",
       "      <td>BAD</td>\n",
       "      <td>Acceptable</td>\n",
       "      <td>Word of mouth (in person, personal email, chat...</td>\n",
       "      <td>Particle physics analysis tools (other than RO...</td>\n",
       "      <td>I develop/maintain software</td>\n",
       "      <td>Grad student involved in research</td>\n",
       "      <td>Developing libraries for data analysts (i.e. \"...</td>\n",
       "      <td>Deployed widely</td>\n",
       "      <td>NaN</td>\n",
       "      <td>...</td>\n",
       "      <td>Never</td>\n",
       "      <td>Never</td>\n",
       "      <td>Never</td>\n",
       "      <td>Never</td>\n",
       "      <td>Never</td>\n",
       "      <td>Never</td>\n",
       "      <td>Never</td>\n",
       "      <td>Never</td>\n",
       "      <td>Never</td>\n",
       "      <td>NaN</td>\n",
       "    </tr>\n",
       "    <tr>\n",
       "      <th>3</th>\n",
       "      <td>Great!</td>\n",
       "      <td>NaN</td>\n",
       "      <td>NaN</td>\n",
       "      <td>My physics collaboration's mailing list(s)</td>\n",
       "      <td>General-purpose data analysis toolkits; Machin...</td>\n",
       "      <td>I research particle physics (experiment, theor...</td>\n",
       "      <td>Grad student involved in research</td>\n",
       "      <td>Software the simulates physics (e.g. Monte Car...</td>\n",
       "      <td>Mostly use-once</td>\n",
       "      <td>NaN</td>\n",
       "      <td>...</td>\n",
       "      <td>Never</td>\n",
       "      <td>Never</td>\n",
       "      <td>Never</td>\n",
       "      <td>Never</td>\n",
       "      <td>Never</td>\n",
       "      <td>Never</td>\n",
       "      <td>Never</td>\n",
       "      <td>Through dependencies only</td>\n",
       "      <td>Never</td>\n",
       "      <td>NaN</td>\n",
       "    </tr>\n",
       "    <tr>\n",
       "      <th>4</th>\n",
       "      <td>Great!</td>\n",
       "      <td>BAD</td>\n",
       "      <td>Acceptable</td>\n",
       "      <td>My physics collaboration's mailing list(s)</td>\n",
       "      <td>General-purpose data analysis toolkits; Machin...</td>\n",
       "      <td>I research particle physics (experiment, theor...</td>\n",
       "      <td>Postdoc/fellow/temporary research position</td>\n",
       "      <td>NaN</td>\n",
       "      <td>Used in small group</td>\n",
       "      <td>CMS</td>\n",
       "      <td>...</td>\n",
       "      <td>Don't know what it is</td>\n",
       "      <td>Don't know what it is</td>\n",
       "      <td>Don't know what it is</td>\n",
       "      <td>Don't know what it is</td>\n",
       "      <td>Never</td>\n",
       "      <td>Don't know what it is</td>\n",
       "      <td>Don't know what it is</td>\n",
       "      <td>Don't know what it is</td>\n",
       "      <td>Regularly</td>\n",
       "      <td>NaN</td>\n",
       "    </tr>\n",
       "    <tr>\n",
       "      <th>...</th>\n",
       "      <td>...</td>\n",
       "      <td>...</td>\n",
       "      <td>...</td>\n",
       "      <td>...</td>\n",
       "      <td>...</td>\n",
       "      <td>...</td>\n",
       "      <td>...</td>\n",
       "      <td>...</td>\n",
       "      <td>...</td>\n",
       "      <td>...</td>\n",
       "      <td>...</td>\n",
       "      <td>...</td>\n",
       "      <td>...</td>\n",
       "      <td>...</td>\n",
       "      <td>...</td>\n",
       "      <td>...</td>\n",
       "      <td>...</td>\n",
       "      <td>...</td>\n",
       "      <td>...</td>\n",
       "      <td>...</td>\n",
       "      <td>...</td>\n",
       "    </tr>\n",
       "    <tr>\n",
       "      <th>389</th>\n",
       "      <td>Acceptable</td>\n",
       "      <td>BAD</td>\n",
       "      <td>Great!</td>\n",
       "      <td>My physics collaboration's mailing list(s)</td>\n",
       "      <td>General-purpose data analysis toolkits; Machin...</td>\n",
       "      <td>I research particle physics (experiment, theor...</td>\n",
       "      <td>Grad student involved in research</td>\n",
       "      <td>Software the simulates physics (e.g. Monte Car...</td>\n",
       "      <td>Deployed widely</td>\n",
       "      <td>ATLAS</td>\n",
       "      <td>...</td>\n",
       "      <td>Never</td>\n",
       "      <td>Never</td>\n",
       "      <td>Don't know what it is</td>\n",
       "      <td>Don't know what it is</td>\n",
       "      <td>Don't know what it is</td>\n",
       "      <td>Don't know what it is</td>\n",
       "      <td>Regularly</td>\n",
       "      <td>Don't know what it is</td>\n",
       "      <td>Never</td>\n",
       "      <td>NaN</td>\n",
       "    </tr>\n",
       "    <tr>\n",
       "      <th>390</th>\n",
       "      <td>Acceptable</td>\n",
       "      <td>Great!</td>\n",
       "      <td>BAD</td>\n",
       "      <td>HSF mailing lists or announcements</td>\n",
       "      <td>General-purpose data analysis toolkits; Machin...</td>\n",
       "      <td>NaN</td>\n",
       "      <td>NaN</td>\n",
       "      <td>NaN</td>\n",
       "      <td>NaN</td>\n",
       "      <td>NaN</td>\n",
       "      <td>...</td>\n",
       "      <td>NaN</td>\n",
       "      <td>NaN</td>\n",
       "      <td>NaN</td>\n",
       "      <td>NaN</td>\n",
       "      <td>NaN</td>\n",
       "      <td>NaN</td>\n",
       "      <td>NaN</td>\n",
       "      <td>NaN</td>\n",
       "      <td>NaN</td>\n",
       "      <td>NaN</td>\n",
       "    </tr>\n",
       "    <tr>\n",
       "      <th>391</th>\n",
       "      <td>Great!</td>\n",
       "      <td>Acceptable</td>\n",
       "      <td>BAD</td>\n",
       "      <td>Word of mouth (in person, personal email, chat...</td>\n",
       "      <td>Python fundamentals (how to program in Python)...</td>\n",
       "      <td>I research particle physics (experiment, theor...</td>\n",
       "      <td>Grad student involved in research</td>\n",
       "      <td>Software the simulates physics (e.g. Monte Car...</td>\n",
       "      <td>Mostly use-once</td>\n",
       "      <td>NaN</td>\n",
       "      <td>...</td>\n",
       "      <td>Never</td>\n",
       "      <td>Never</td>\n",
       "      <td>Never</td>\n",
       "      <td>Never</td>\n",
       "      <td>Never</td>\n",
       "      <td>Never</td>\n",
       "      <td>Never</td>\n",
       "      <td>Never</td>\n",
       "      <td>Never</td>\n",
       "      <td>NaN</td>\n",
       "    </tr>\n",
       "    <tr>\n",
       "      <th>392</th>\n",
       "      <td>Acceptable</td>\n",
       "      <td>Great!</td>\n",
       "      <td>BAD</td>\n",
       "      <td>My physics collaboration's mailing list(s)</td>\n",
       "      <td>Python fundamentals (how to program in Python)...</td>\n",
       "      <td>I research particle physics (experiment, theor...</td>\n",
       "      <td>Grad student involved in research</td>\n",
       "      <td>Studies that improve the quality of reconstruc...</td>\n",
       "      <td>Used in small group</td>\n",
       "      <td>CMS</td>\n",
       "      <td>...</td>\n",
       "      <td>Never</td>\n",
       "      <td>Never</td>\n",
       "      <td>Never</td>\n",
       "      <td>Never</td>\n",
       "      <td>Never</td>\n",
       "      <td>Never</td>\n",
       "      <td>Through dependencies only</td>\n",
       "      <td>Never</td>\n",
       "      <td>Through dependencies only</td>\n",
       "      <td>NaN</td>\n",
       "    </tr>\n",
       "    <tr>\n",
       "      <th>393</th>\n",
       "      <td>NaN</td>\n",
       "      <td>Great!</td>\n",
       "      <td>NaN</td>\n",
       "      <td>Other</td>\n",
       "      <td>Python fundamentals (how to program in Python)...</td>\n",
       "      <td>I'm studying physics but not doing research</td>\n",
       "      <td>Early grad student (mostly taking courses)</td>\n",
       "      <td>NaN</td>\n",
       "      <td>NaN</td>\n",
       "      <td>ATLAS</td>\n",
       "      <td>...</td>\n",
       "      <td>Don't know what it is</td>\n",
       "      <td>Don't know what it is</td>\n",
       "      <td>Don't know what it is</td>\n",
       "      <td>Don't know what it is</td>\n",
       "      <td>Don't know what it is</td>\n",
       "      <td>Don't know what it is</td>\n",
       "      <td>Don't know what it is</td>\n",
       "      <td>Don't know what it is</td>\n",
       "      <td>Don't know what it is</td>\n",
       "      <td>NaN</td>\n",
       "    </tr>\n",
       "  </tbody>\n",
       "</table>\n",
       "<p>394 rows × 105 columns</p>\n",
       "</div>"
      ],
      "text/plain": [
       "    PyHEP feedback: Atlantic: 15:00 CET, 06:00 PDT, 18:30 IST, 22:00 JST  \\\n",
       "0                                               Great!                     \n",
       "1                                           Acceptable                     \n",
       "2                                               Great!                     \n",
       "3                                               Great!                     \n",
       "4                                               Great!                     \n",
       "..                                                 ...                     \n",
       "389                                         Acceptable                     \n",
       "390                                         Acceptable                     \n",
       "391                                             Great!                     \n",
       "392                                         Acceptable                     \n",
       "393                                                NaN                     \n",
       "\n",
       "    PyHEP feedback: Pacific: 00:00 CET, 15:00 PDT, 03:30 IST, 07:00 JST  \\\n",
       "0                                                  BAD                    \n",
       "1                                                  BAD                    \n",
       "2                                                  BAD                    \n",
       "3                                                  NaN                    \n",
       "4                                                  BAD                    \n",
       "..                                                 ...                    \n",
       "389                                                BAD                    \n",
       "390                                             Great!                    \n",
       "391                                         Acceptable                    \n",
       "392                                             Great!                    \n",
       "393                                             Great!                    \n",
       "\n",
       "    PyHEP feedback: Indian Ocean: 09:00 CET, 00:00 PDT, 12:30 IST, 16:00 JST  \\\n",
       "0                                           Acceptable                         \n",
       "1                                               Great!                         \n",
       "2                                           Acceptable                         \n",
       "3                                                  NaN                         \n",
       "4                                           Acceptable                         \n",
       "..                                                 ...                         \n",
       "389                                             Great!                         \n",
       "390                                                BAD                         \n",
       "391                                                BAD                         \n",
       "392                                                BAD                         \n",
       "393                                                NaN                         \n",
       "\n",
       "    PyHEP feedback: How did you hear about this workshop?  \\\n",
       "0           My physics collaboration's mailing list(s)      \n",
       "1    HSF mailing lists or announcements; Word of mo...      \n",
       "2    Word of mouth (in person, personal email, chat...      \n",
       "3           My physics collaboration's mailing list(s)      \n",
       "4           My physics collaboration's mailing list(s)      \n",
       "..                                                 ...      \n",
       "389         My physics collaboration's mailing list(s)      \n",
       "390                 HSF mailing lists or announcements      \n",
       "391  Word of mouth (in person, personal email, chat...      \n",
       "392         My physics collaboration's mailing list(s)      \n",
       "393                                              Other      \n",
       "\n",
       "    PyHEP feedback: What are you hoping to learn from this workshop?  \\\n",
       "0    Machine learning/deep learning toolkits; Parti...                 \n",
       "1    General-purpose data analysis toolkits; Machin...                 \n",
       "2    Particle physics analysis tools (other than RO...                 \n",
       "3    General-purpose data analysis toolkits; Machin...                 \n",
       "4    General-purpose data analysis toolkits; Machin...                 \n",
       "..                                                 ...                 \n",
       "389  General-purpose data analysis toolkits; Machin...                 \n",
       "390  General-purpose data analysis toolkits; Machin...                 \n",
       "391  Python fundamentals (how to program in Python)...                 \n",
       "392  Python fundamentals (how to program in Python)...                 \n",
       "393  Python fundamentals (how to program in Python)...                 \n",
       "\n",
       "    Professional life: What best describes your occupation?  \\\n",
       "0    I research particle physics (experiment, theor...        \n",
       "1    I research particle physics (experiment, theor...        \n",
       "2                          I develop/maintain software        \n",
       "3    I research particle physics (experiment, theor...        \n",
       "4    I research particle physics (experiment, theor...        \n",
       "..                                                 ...        \n",
       "389  I research particle physics (experiment, theor...        \n",
       "390                                                NaN        \n",
       "391  I research particle physics (experiment, theor...        \n",
       "392  I research particle physics (experiment, theor...        \n",
       "393        I'm studying physics but not doing research        \n",
       "\n",
       "    Professional life: What best describes the stage of your professional career?  \\\n",
       "0                    Grad student involved in research                              \n",
       "1                    Grad student involved in research                              \n",
       "2                    Grad student involved in research                              \n",
       "3                    Grad student involved in research                              \n",
       "4           Postdoc/fellow/temporary research position                              \n",
       "..                                                 ...                              \n",
       "389                  Grad student involved in research                              \n",
       "390                                                NaN                              \n",
       "391                  Grad student involved in research                              \n",
       "392                  Grad student involved in research                              \n",
       "393         Early grad student (mostly taking courses)                              \n",
       "\n",
       "    Professional life: If you're involved in computing, what do you do?  \\\n",
       "0    Studies that improve the quality of reconstruc...                    \n",
       "1    Studies that improve the quality of reconstruc...                    \n",
       "2    Developing libraries for data analysts (i.e. \"...                    \n",
       "3    Software the simulates physics (e.g. Monte Car...                    \n",
       "4                                                  NaN                    \n",
       "..                                                 ...                    \n",
       "389  Software the simulates physics (e.g. Monte Car...                    \n",
       "390                                                NaN                    \n",
       "391  Software the simulates physics (e.g. Monte Car...                    \n",
       "392  Studies that improve the quality of reconstruc...                    \n",
       "393                                                NaN                    \n",
       "\n",
       "    Professional life: If you write software, what is its lifespan and scope?  \\\n",
       "0                                      Deployed widely                          \n",
       "1                                  Used in small group                          \n",
       "2                                      Deployed widely                          \n",
       "3                                      Mostly use-once                          \n",
       "4                                  Used in small group                          \n",
       "..                                                 ...                          \n",
       "389                                    Deployed widely                          \n",
       "390                                                NaN                          \n",
       "391                                    Mostly use-once                          \n",
       "392                                Used in small group                          \n",
       "393                                                NaN                          \n",
       "\n",
       "    Professional life: Are you associated with one or more experimental or theoretical collaborations? (E.g. ATLAS, CMS, DUNE, USQCD...)  \\\n",
       "0                                                  NaN                                                                                     \n",
       "1                                                  NaN                                                                                     \n",
       "2                                                  NaN                                                                                     \n",
       "3                                                  NaN                                                                                     \n",
       "4                                                  CMS                                                                                     \n",
       "..                                                 ...                                                                                     \n",
       "389                                              ATLAS                                                                                     \n",
       "390                                                NaN                                                                                     \n",
       "391                                                NaN                                                                                     \n",
       "392                                                CMS                                                                                     \n",
       "393                                              ATLAS                                                                                     \n",
       "\n",
       "     ...  \\\n",
       "0    ...   \n",
       "1    ...   \n",
       "2    ...   \n",
       "3    ...   \n",
       "4    ...   \n",
       "..   ...   \n",
       "389  ...   \n",
       "390  ...   \n",
       "391  ...   \n",
       "392  ...   \n",
       "393  ...   \n",
       "\n",
       "    Particle physics ecosystem: hepunits: https://github.com/scikit-hep/hepunits  \\\n",
       "0                                                  NaN                             \n",
       "1                                Don't know what it is                             \n",
       "2                                                Never                             \n",
       "3                                                Never                             \n",
       "4                                Don't know what it is                             \n",
       "..                                                 ...                             \n",
       "389                                              Never                             \n",
       "390                                                NaN                             \n",
       "391                                              Never                             \n",
       "392                                              Never                             \n",
       "393                              Don't know what it is                             \n",
       "\n",
       "    Particle physics ecosystem: particle: https://github.com/scikit-hep/particle  \\\n",
       "0                                                  NaN                             \n",
       "1                                Don't know what it is                             \n",
       "2                                                Never                             \n",
       "3                                                Never                             \n",
       "4                                Don't know what it is                             \n",
       "..                                                 ...                             \n",
       "389                                              Never                             \n",
       "390                                                NaN                             \n",
       "391                                              Never                             \n",
       "392                                              Never                             \n",
       "393                              Don't know what it is                             \n",
       "\n",
       "    Particle physics ecosystem: pyjet: https://github.com/scikit-hep/pyjet  \\\n",
       "0                                                  NaN                       \n",
       "1                                Don't know what it is                       \n",
       "2                                                Never                       \n",
       "3                                                Never                       \n",
       "4                                Don't know what it is                       \n",
       "..                                                 ...                       \n",
       "389                              Don't know what it is                       \n",
       "390                                                NaN                       \n",
       "391                                              Never                       \n",
       "392                                              Never                       \n",
       "393                              Don't know what it is                       \n",
       "\n",
       "    Particle physics ecosystem: Astropy: https://www.astropy.org  \\\n",
       "0                                                  NaN             \n",
       "1                                Don't know what it is             \n",
       "2                                                Never             \n",
       "3                                                Never             \n",
       "4                                Don't know what it is             \n",
       "..                                                 ...             \n",
       "389                              Don't know what it is             \n",
       "390                                                NaN             \n",
       "391                                              Never             \n",
       "392                                              Never             \n",
       "393                              Don't know what it is             \n",
       "\n",
       "     Particle physics ecosystem: Geant4Py: https://nusoft.fnal.gov/larsoft/doxsvn/html/md_geant4.10.03.p03_environments_g4py_README.html  \\\n",
       "0                                                  NaN                                                                                     \n",
       "1                                Don't know what it is                                                                                     \n",
       "2                                                Never                                                                                     \n",
       "3                                                Never                                                                                     \n",
       "4                                                Never                                                                                     \n",
       "..                                                 ...                                                                                     \n",
       "389                              Don't know what it is                                                                                     \n",
       "390                                                NaN                                                                                     \n",
       "391                                              Never                                                                                     \n",
       "392                                              Never                                                                                     \n",
       "393                              Don't know what it is                                                                                     \n",
       "\n",
       "     Particle physics ecosystem: luigi: https://luigi.readthedocs.io  \\\n",
       "0                                                  NaN                 \n",
       "1                                Don't know what it is                 \n",
       "2                                                Never                 \n",
       "3                                                Never                 \n",
       "4                                Don't know what it is                 \n",
       "..                                                 ...                 \n",
       "389                              Don't know what it is                 \n",
       "390                                                NaN                 \n",
       "391                                              Never                 \n",
       "392                                              Never                 \n",
       "393                              Don't know what it is                 \n",
       "\n",
       "    Particle physics ecosystem: Rucio: https://rucio.readthedocs.io  \\\n",
       "0                                                  NaN                \n",
       "1                                Don't know what it is                \n",
       "2                                                Never                \n",
       "3                                                Never                \n",
       "4                                Don't know what it is                \n",
       "..                                                 ...                \n",
       "389                                          Regularly                \n",
       "390                                                NaN                \n",
       "391                                              Never                \n",
       "392                          Through dependencies only                \n",
       "393                              Don't know what it is                \n",
       "\n",
       "    Particle physics ecosystem: Gaudi: https://github.com/lgiordani/gaudi  \\\n",
       "0                                                  NaN                      \n",
       "1                            Through dependencies only                      \n",
       "2                                                Never                      \n",
       "3                            Through dependencies only                      \n",
       "4                                Don't know what it is                      \n",
       "..                                                 ...                      \n",
       "389                              Don't know what it is                      \n",
       "390                                                NaN                      \n",
       "391                                              Never                      \n",
       "392                                              Never                      \n",
       "393                              Don't know what it is                      \n",
       "\n",
       "    Particle physics ecosystem: Condor: https://htcondor.readthedocs.io/en/latest/apis/python-bindings  \\\n",
       "0                                                  NaN                                                   \n",
       "1                            Through dependencies only                                                   \n",
       "2                                                Never                                                   \n",
       "3                                                Never                                                   \n",
       "4                                            Regularly                                                   \n",
       "..                                                 ...                                                   \n",
       "389                                              Never                                                   \n",
       "390                                                NaN                                                   \n",
       "391                                              Never                                                   \n",
       "392                          Through dependencies only                                                   \n",
       "393                              Don't know what it is                                                   \n",
       "\n",
       "    Particle physics ecosystem: Do you regularly use any other packages that weren't listed here?  \n",
       "0                                                  NaN                                             \n",
       "1                                                  NaN                                             \n",
       "2                                                  NaN                                             \n",
       "3                                                  NaN                                             \n",
       "4                                                  NaN                                             \n",
       "..                                                 ...                                             \n",
       "389                                                NaN                                             \n",
       "390                                                NaN                                             \n",
       "391                                                NaN                                             \n",
       "392                                                NaN                                             \n",
       "393                                                NaN                                             \n",
       "\n",
       "[394 rows x 105 columns]"
      ]
     },
     "execution_count": 1,
     "metadata": {},
     "output_type": "execute_result"
    }
   ],
   "source": [
    "import pandas\n",
    "df = pandas.read_csv(\"survey-results.csv\")\n",
    "df"
   ]
  },
  {
   "cell_type": "code",
   "execution_count": 2,
   "metadata": {},
   "outputs": [
    {
     "data": {
      "image/png": "[encoded data removed]",
      "text/plain": [
       "<Figure size 432x288 with 1 Axes>"
      ]
     },
     "metadata": {
      "needs_background": "light"
     },
     "output_type": "display_data"
    }
   ],
   "source": [
    "df[\"Professional life: What best describes your occupation?\"].value_counts(ascending=True).plot.barh();"
   ]
  },
  {
   "cell_type": "code",
   "execution_count": 3,
   "metadata": {},
   "outputs": [
    {
     "data": {
      "image/png": "[encoded data removed]",
      "text/plain": [
       "<Figure size 432x288 with 1 Axes>"
      ]
     },
     "metadata": {
      "needs_background": "light"
     },
     "output_type": "display_data"
    }
   ],
   "source": [
    "df[\"Professional life: What best describes the stage of your professional career?\"].value_counts(ascending=True).plot.barh();"
   ]
  },
  {
   "cell_type": "code",
   "execution_count": 4,
   "metadata": {},
   "outputs": [
    {
     "data": {
      "image/png": "[encoded data removed]",
      "text/plain": [
       "<Figure size 360x504 with 1 Axes>"
      ]
     },
     "metadata": {
      "needs_background": "light"
     },
     "output_type": "display_data"
    }
   ],
   "source": [
    "languages = [\n",
    "    \"C or C++\",\n",
    "    \"Python\",\n",
    "    \"Matlab\",\n",
    "    \"Javascript or other browser-based (e.g. TypeScript, CoffeeScript)\",\n",
    "    \"Verilog, VHDL, or other hardware description language\",\n",
    "    \"R\",\n",
    "    \"Java or other JVM-based (e.g. Kotlin, Scala, Clojure)\",\n",
    "    \"Perl\",\n",
    "    \"PHP\",\n",
    "    \"C#\",\n",
    "    \"Julia\",\n",
    "    \"Go\",\n",
    "    \"Swift\",\n",
    "    \"Rust\",\n",
    "    \"Ruby\",\n",
    "    \"Haskell\",\n",
    "    \"Raw assembly or machine code\",\n",
    "    \"Other, not listed above\",\n",
    "]\n",
    "def explode(responses):\n",
    "    responses = [response.strip() for response in responses.split(\";\")]\n",
    "    return [1.0 if language in responses else 0.0 for language in languages]\n",
    "exploded = df[[\"Computing and programming: Which of the following languages do you use regularly (i.e. more than 10% of your work)?\"]].fillna(\"\").applymap(explode)\n",
    "indicator = pandas.DataFrame(exploded.iloc[:, 0].tolist(), columns=languages)\n",
    "indicator.div(indicator.sum(axis=1), axis=0).sum(axis=0).iloc[::-1].plot.barh(figsize=(5, 7));"
   ]
  },
  {
   "cell_type": "code",
   "execution_count": 5,
   "metadata": {},
   "outputs": [
    {
     "data": {
      "image/png": "[encoded data removed]",
      "text/plain": [
       "<Figure size 432x288 with 1 Axes>"
      ]
     },
     "metadata": {
      "needs_background": "light"
     },
     "output_type": "display_data"
    }
   ],
   "source": [
    "df[[\n",
    "    \"Computing and programming: Do you *expect* to use Python more or less in the future (as a fraction of your programming time)?\",\n",
    "    \"Computing and programming: Do you *want* to use Python more or less in the future (as a fraction of your programming time)?\"\n",
    "]].apply(pandas.Series.value_counts).loc[[\"Less\", \"About the same\", \"More\", \"Don't know\"]].plot.bar(rot=0).legend(bbox_to_anchor=(1.2, 0.5));"
   ]
  },
  {
   "cell_type": "code",
   "execution_count": 6,
   "metadata": {},
   "outputs": [
    {
     "data": {
      "image/png": "[encoded data removed]",
      "text/plain": [
       "<Figure size 1440x1440 with 1 Axes>"
      ]
     },
     "metadata": {
      "needs_background": "light"
     },
     "output_type": "display_data"
    }
   ],
   "source": [
    "cols = {x: x.split(\":\")[1].strip() for x in df.columns if x.startswith(\"Python ecosystem:\") and \"?\" not in x}\n",
    "order = ((df[list(cols)] == \"Don't know what it is\") | (df[list(cols)] == \"Never\")).sum(axis=0).sort_values(ascending=False).index.tolist()\n",
    "pkgs = df[order].rename(columns=cols).apply(pandas.Series.value_counts).T[[\n",
    "    \"Don't know what it is\", \"Never\", \"Through dependencies only\", \"Regularly\", \"All the time\"\n",
    "]].fillna(0)\n",
    "pkgs.insert(0, \"No selection\", pkgs.sum(axis=1).max() - pkgs.sum(axis=1))\n",
    "pkgs.plot.barh(stacked=True, width=0.9, figsize=(20, 20), color=[\"#5e79e0\", \"#798bd1\", \"#992cc7\", \"#f5f518\", \"#ffa640\", \"#ff5a30\"]).legend(bbox_to_anchor=(1.2, 0.5));"
   ]
  },
  {
   "cell_type": "code",
   "execution_count": 7,
   "metadata": {},
   "outputs": [
    {
     "data": {
      "image/png": "[encoded data removed]",
      "text/plain": [
       "<Figure size 1440x1440 with 1 Axes>"
      ]
     },
     "metadata": {
      "needs_background": "light"
     },
     "output_type": "display_data"
    }
   ],
   "source": [
    "cols = {x: x.split(\":\")[1].strip() for x in df.columns if x.startswith(\"Particle physics ecosystem:\") and \"?\" not in x}\n",
    "order = ((df[list(cols)] == \"Don't know what it is\") | (df[list(cols)] == \"Never\")).sum(axis=0).sort_values(ascending=False).index.tolist()\n",
    "pkgs = df[order].rename(columns=cols).apply(pandas.Series.value_counts).T[[\n",
    "    \"Don't know what it is\", \"Never\", \"Through dependencies only\", \"Regularly\", \"All the time\"\n",
    "]].fillna(0)\n",
    "pkgs.insert(0, \"No selection\", pkgs.sum(axis=1).max() - pkgs.sum(axis=1))\n",
    "pkgs.plot.barh(stacked=True, width=0.9, figsize=(20, 20), color=[\"#5e79e0\", \"#798bd1\", \"#992cc7\", \"#f5f518\", \"#ffa640\", \"#ff5a30\"]).legend(bbox_to_anchor=(1.2, 0.5));"
   ]
  },
  {
   "cell_type": "code",
   "execution_count": 8,
   "metadata": {},
   "outputs": [
    {
     "data": {
      "image/png": "[encoded data removed]",
      "text/plain": [
       "<Figure size 360x504 with 1 Axes>"
      ]
     },
     "metadata": {
      "needs_background": "light"
     },
     "output_type": "display_data"
    }
   ],
   "source": [
    "hopes = [\n",
    "    \"Particle physics analysis tools (other than ROOT)\",\n",
    "    \"General-purpose data analysis toolkits\",\n",
    "    \"Machine learning/deep learning toolkits\",\n",
    "    \"Software engineering skills (beyond the fundamentals)\",\n",
    "    \"ROOT and PyROOT\",\n",
    "    \"Python fundamentals (how to program in Python)\",\n",
    "    \"Collaboration-specific topics\",\n",
    "    \"Other\",\n",
    "]\n",
    "def explode(responses):\n",
    "    responses = [response.strip() for response in responses.split(\";\")]\n",
    "    return [1.0 if hope in responses else 0.0 for hope in hopes]\n",
    "exploded = df[[\"PyHEP feedback: What are you hoping to learn from this workshop?\"]].fillna(\"\").applymap(explode)\n",
    "indicator = pandas.DataFrame(exploded.iloc[:, 0].tolist(), columns=hopes)\n",
    "indicator.div(indicator.sum(axis=1), axis=0).sum(axis=0).iloc[::-1].plot.barh(figsize=(5, 7));"
   ]
  },
  {
   "cell_type": "markdown",
   "metadata": {},
   "source": [
    "<br><br><br><br><br>\n",
    "\n",
    "## Conclusions:\n",
    "\n",
    "   1. You are mostly grad students and postdocs engaged in physics research.\n",
    "   2. You use Python and C++ about equally, but want to use Python more.\n",
    "   3. You are familiar with the major libraries of the Python world: NumPy, Matplotlib, machine learning.\n",
    "   4. You are less familiar with Python libraries intended for physics analysis.\n",
    "   5. But you want to learn.\n",
    "\n",
    "So let's get started!\n",
    "\n",
    "<br><br><br><br><br>"
   ]
  },
  {
   "cell_type": "markdown",
   "metadata": {},
   "source": [
    "<img src=\"img/uproot-logo-300px.png\" alt=\"Uproot\" width=\"300px\" style=\"margin-bottom: -50px; margin-right: 20px\"><font size=\"5\"> is a pure-Python implementation of ROOT I/O.</font>\n",
    "\n",
    "<br><br>\n",
    "\n",
    "<img src=\"img/abstraction-layers.png\" width=\"900px\">"
   ]
  },
  {
   "cell_type": "markdown",
   "metadata": {},
   "source": [
    "<img src=\"img/awkward-logo-600px.png\" alt=\"Uproot\" width=\"350px\" style=\"margin-bottom: -29px; margin-right: 20px\"><font size=\"5\"> is a generalization of NumPy to data structures (such as jagged arrays).</font>\n",
    "\n",
    "<br><br>\n",
    "\n",
    "<img src=\"img/cartoon-schematic.png\" width=\"1000px\">"
   ]
  },
  {
   "cell_type": "markdown",
   "metadata": {},
   "source": [
    "<br><br><br>\n",
    "\n",
    "# Interesting times!\n",
    "\n",
    "<font size=\"4\">We happen to be in the middle of a transition from <b>Uproot 3.x → Uproot 4.x</b> and <b>Awkward 0.x → Awkward 1.x</b>.</font>\n",
    "\n",
    "<img src=\"img/uproot-awkward-timeline.png\" width=\"900px\">\n",
    "\n",
    "<font size=\"4\">You can use both! Old and new versions are independently installable/importable.</font>\n",
    "\n",
    "<table style=\"font-size: 1.5em; font-weight: bold; margin-left: 0px\">\n",
    "    <tr style=\"background: white\"><td></td><td style=\"color: gray\">Now</td><td style=\"color: gray\">Later this year</td></tr>\n",
    "    <tr style=\"background: white\"><td style=\"color: gray\">Old versions</td><td style=\"color: blue\">uproot, awkward</td><td>uproot3, awkward0</td></tr>\n",
    "    <tr style=\"background: white\"><td style=\"color: gray\">New versions</td><td>uproot4, awkward1</td><td style=\"color: blue\">uproot, awkward</td></tr>\n",
    "</table>\n",
    "\n",
    "<img src=\"img/Raiders-of-the-Lost-Ark-Chamber.jpg\" width=\"800px\">\n",
    "\n",
    "<br><br><br><br><br>"
   ]
  },
  {
   "cell_type": "markdown",
   "metadata": {},
   "source": [
    "# What will this tutorial use?\n",
    "\n",
    "New versions of both: **Uproot 4** and **Awkward 1**. This tutorial is bleeding edge."
   ]
  },
  {
   "cell_type": "code",
   "execution_count": 9,
   "metadata": {},
   "outputs": [],
   "source": [
    "import uproot4\n",
    "import awkward1 as ak\n",
    "import numpy as np"
   ]
  },
  {
   "cell_type": "markdown",
   "metadata": {},
   "source": [
    "# In a nutshell\n",
    "\n",
    "Uproot provides a short path from ROOT files to arrays."
   ]
  },
  {
   "cell_type": "code",
   "execution_count": 10,
   "metadata": {},
   "outputs": [
    {
     "data": {
      "text/plain": [
       "array([2, 1, 2, ..., 2, 2, 2], dtype=uint32)"
      ]
     },
     "execution_count": 10,
     "metadata": {},
     "output_type": "execute_result"
    }
   ],
   "source": [
    "np.array(uproot4.open(\"data/opendata_muons.root:Events/nMuon\"))"
   ]
  },
  {
   "cell_type": "markdown",
   "metadata": {},
   "source": [
    "Let's break that down."
   ]
  },
  {
   "cell_type": "markdown",
   "metadata": {},
   "source": [
    "# Exploring a file"
   ]
  },
  {
   "cell_type": "code",
   "execution_count": 11,
   "metadata": {},
   "outputs": [
    {
     "data": {
      "text/plain": [
       "<ReadOnlyDirectory '/' at 0x7f867b792a10>"
      ]
     },
     "execution_count": 11,
     "metadata": {},
     "output_type": "execute_result"
    }
   ],
   "source": [
    "root = uproot4.open(\"data/opendata_muons.root\")\n",
    "root"
   ]
  },
  {
   "cell_type": "markdown",
   "metadata": {},
   "source": [
    "When you open a file, you get its root directory, which has the properties of a Python dict.\n",
    "\n",
    "You can list its keys."
   ]
  },
  {
   "cell_type": "code",
   "execution_count": 12,
   "metadata": {},
   "outputs": [
    {
     "data": {
      "text/plain": [
       "['Events;1']"
      ]
     },
     "execution_count": 12,
     "metadata": {},
     "output_type": "execute_result"
    }
   ],
   "source": [
    "root.keys()"
   ]
  },
  {
   "cell_type": "markdown",
   "metadata": {},
   "source": [
    "You can get an item from it using square brackets."
   ]
  },
  {
   "cell_type": "code",
   "execution_count": 13,
   "metadata": {},
   "outputs": [
    {
     "data": {
      "text/plain": [
       "<TTree 'Events' (15 branches) at 0x7f867b77a250>"
      ]
     },
     "execution_count": 13,
     "metadata": {},
     "output_type": "execute_result"
    }
   ],
   "source": [
    "root[\"Events\"]"
   ]
  },
  {
   "cell_type": "markdown",
   "metadata": {},
   "source": [
    "(The `;1` wasn't necesssary—it's a \"cycle number,\" which ROOT uses to distinguish objects in the same directory with the same name. If unspecified, you get the highest cycle number.)"
   ]
  },
  {
   "cell_type": "code",
   "execution_count": 14,
   "metadata": {},
   "outputs": [
    {
     "data": {
      "text/plain": [
       "True"
      ]
     },
     "execution_count": 14,
     "metadata": {},
     "output_type": "execute_result"
    }
   ],
   "source": [
    "from collections.abc import Mapping\n",
    "\n",
    "isinstance(root, Mapping)"
   ]
  },
  {
   "cell_type": "markdown",
   "metadata": {},
   "source": [
    "You can also get listings of objects by type."
   ]
  },
  {
   "cell_type": "code",
   "execution_count": 15,
   "metadata": {},
   "outputs": [
    {
     "data": {
      "text/plain": [
       "{'Events': 'TTree'}"
      ]
     },
     "execution_count": 15,
     "metadata": {},
     "output_type": "execute_result"
    }
   ],
   "source": [
    "root.classnames()"
   ]
  },
  {
   "cell_type": "markdown",
   "metadata": {},
   "source": [
    "Perhaps this file is more interesting:"
   ]
  },
  {
   "cell_type": "code",
   "execution_count": 16,
   "metadata": {},
   "outputs": [],
   "source": [
    "nesteddirs = uproot4.open(\"data/nesteddirs.root\")"
   ]
  },
  {
   "cell_type": "code",
   "execution_count": 17,
   "metadata": {},
   "outputs": [
    {
     "data": {
      "text/plain": [
       "['one;1',\n",
       " 'one/two;1',\n",
       " 'one/two/tree;1',\n",
       " 'one/tree;1',\n",
       " 'three;1',\n",
       " 'three/tree;1']"
      ]
     },
     "execution_count": 17,
     "metadata": {},
     "output_type": "execute_result"
    }
   ],
   "source": [
    "nesteddirs.keys()"
   ]
  },
  {
   "cell_type": "code",
   "execution_count": 18,
   "metadata": {},
   "outputs": [
    {
     "data": {
      "text/plain": [
       "<ReadOnlyDirectory '/one/two' at 0x7f867b551b50>"
      ]
     },
     "execution_count": 18,
     "metadata": {},
     "output_type": "execute_result"
    }
   ],
   "source": [
    "nesteddirs[\"one/two\"]"
   ]
  },
  {
   "cell_type": "code",
   "execution_count": 19,
   "metadata": {},
   "outputs": [
    {
     "data": {
      "text/plain": [
       "['tree;1']"
      ]
     },
     "execution_count": 19,
     "metadata": {},
     "output_type": "execute_result"
    }
   ],
   "source": [
    "nesteddirs[\"one/two\"].keys()"
   ]
  },
  {
   "cell_type": "code",
   "execution_count": 20,
   "metadata": {},
   "outputs": [
    {
     "data": {
      "text/plain": [
       "{'one': 'TDirectory',\n",
       " 'one/two': 'TDirectory',\n",
       " 'one/two/tree': 'TTree',\n",
       " 'one/tree': 'TTree',\n",
       " 'three': 'TDirectory',\n",
       " 'three/tree': 'TTree'}"
      ]
     },
     "execution_count": 20,
     "metadata": {},
     "output_type": "execute_result"
    }
   ],
   "source": [
    "nesteddirs.classnames()"
   ]
  },
  {
   "cell_type": "markdown",
   "metadata": {},
   "source": [
    "At all levels, you can filter by name or type."
   ]
  },
  {
   "cell_type": "code",
   "execution_count": 21,
   "metadata": {},
   "outputs": [
    {
     "data": {
      "text/plain": [
       "['one/two/tree;1', 'one/tree;1', 'three/tree;1']"
      ]
     },
     "execution_count": 21,
     "metadata": {},
     "output_type": "execute_result"
    }
   ],
   "source": [
    "nesteddirs.keys(filter_classname=\"TTree\")"
   ]
  },
  {
   "cell_type": "code",
   "execution_count": 22,
   "metadata": {},
   "outputs": [
    {
     "data": {
      "text/plain": [
       "{'one/two': 'TDirectory',\n",
       " 'one/two/tree': 'TTree',\n",
       " 'one/tree': 'TTree',\n",
       " 'three': 'TDirectory',\n",
       " 'three/tree': 'TTree'}"
      ]
     },
     "execution_count": 22,
     "metadata": {},
     "output_type": "execute_result"
    }
   ],
   "source": [
    "nesteddirs.classnames(filter_name=\"*t*\")"
   ]
  },
  {
   "cell_type": "markdown",
   "metadata": {},
   "source": [
    "# Exploring a TTree\n",
    "\n",
    "<img src=\"img/terminology.png\" width=\"1000px\">"
   ]
  },
  {
   "cell_type": "markdown",
   "metadata": {},
   "source": [
    "It's generally useful to first look at a TTree with `show`."
   ]
  },
  {
   "cell_type": "code",
   "execution_count": 23,
   "metadata": {},
   "outputs": [
    {
     "name": "stdout",
     "output_type": "stream",
     "text": [
      "name                 | typename             | interpretation                    \n",
      "---------------------+----------------------+-----------------------------------\n",
      "run                  | int32_t              | AsDtype('>i4')                    \n",
      "luminosityBlock      | uint32_t             | AsDtype('>u4')                    \n",
      "event                | uint64_t             | AsDtype('>u8')                    \n",
      "PV_npvs              | int32_t              | AsDtype('>i4')                    \n",
      "PV_x                 | float                | AsDtype('>f4')                    \n",
      "PV_y                 | float                | AsDtype('>f4')                    \n",
      "PV_z                 | float                | AsDtype('>f4')                    \n",
      "nMuon                | uint32_t             | AsDtype('>u4')                    \n",
      "Muon_pt              | float[]              | AsJagged(AsDtype('>f4'))          \n",
      "Muon_eta             | float[]              | AsJagged(AsDtype('>f4'))          \n",
      "Muon_phi             | float[]              | AsJagged(AsDtype('>f4'))          \n",
      "Muon_mass            | float[]              | AsJagged(AsDtype('>f4'))          \n",
      "Muon_charge          | int32_t[]            | AsJagged(AsDtype('>i4'))          \n",
      "Muon_pfRelIso04_all  | float[]              | AsJagged(AsDtype('>f4'))          \n",
      "Muon_tightId         | bool[]               | AsJagged(AsDtype('bool'))         \n"
     ]
    }
   ],
   "source": [
    "tree = root[\"Events\"]\n",
    "tree.show()"
   ]
  },
  {
   "cell_type": "markdown",
   "metadata": {},
   "source": [
    "These are all the branches of the TTree with the type name of the branch (if Uproot can determine it) and its interpretation as an array (if possible).\n",
    "\n",
    "TTrees also have a dict-like interface."
   ]
  },
  {
   "cell_type": "code",
   "execution_count": 24,
   "metadata": {},
   "outputs": [
    {
     "data": {
      "text/plain": [
       "['run',\n",
       " 'luminosityBlock',\n",
       " 'event',\n",
       " 'PV_npvs',\n",
       " 'PV_x',\n",
       " 'PV_y',\n",
       " 'PV_z',\n",
       " 'nMuon',\n",
       " 'Muon_pt',\n",
       " 'Muon_eta',\n",
       " 'Muon_phi',\n",
       " 'Muon_mass',\n",
       " 'Muon_charge',\n",
       " 'Muon_pfRelIso04_all',\n",
       " 'Muon_tightId']"
      ]
     },
     "execution_count": 24,
     "metadata": {},
     "output_type": "execute_result"
    }
   ],
   "source": [
    "tree.keys()"
   ]
  },
  {
   "cell_type": "code",
   "execution_count": 25,
   "metadata": {},
   "outputs": [
    {
     "data": {
      "text/plain": [
       "[('run', <TBranch 'run' at 0x7f867b77ac90>),\n",
       " ('luminosityBlock', <TBranch 'luminosityBlock' at 0x7f867b77a090>),\n",
       " ('event', <TBranch 'event' at 0x7f867b7597d0>),\n",
       " ('PV_npvs', <TBranch 'PV_npvs' at 0x7f867b759b90>),\n",
       " ('PV_x', <TBranch 'PV_x' at 0x7f867b74e250>),\n",
       " ('PV_y', <TBranch 'PV_y' at 0x7f867b74e510>),\n",
       " ('PV_z', <TBranch 'PV_z' at 0x7f867b74ed50>),\n",
       " ('nMuon', <TBranch 'nMuon' at 0x7f867b7921d0>),\n",
       " ('Muon_pt', <TBranch 'Muon_pt' at 0x7f867b7857d0>),\n",
       " ('Muon_eta', <TBranch 'Muon_eta' at 0x7f867b409fd0>),\n",
       " ('Muon_phi', <TBranch 'Muon_phi' at 0x7f867b74ef10>),\n",
       " ('Muon_mass', <TBranch 'Muon_mass' at 0x7f867b5d4310>),\n",
       " ('Muon_charge', <TBranch 'Muon_charge' at 0x7f867b5d49d0>),\n",
       " ('Muon_pfRelIso04_all', <TBranch 'Muon_pfRelIso04_all' at 0x7f867b5d4d10>),\n",
       " ('Muon_tightId', <TBranch 'Muon_tightId' at 0x7f867b5d4390>)]"
      ]
     },
     "execution_count": 25,
     "metadata": {},
     "output_type": "execute_result"
    }
   ],
   "source": [
    "tree.items()"
   ]
  },
  {
   "cell_type": "code",
   "execution_count": 26,
   "metadata": {},
   "outputs": [
    {
     "data": {
      "text/plain": [
       "{'run': 'int32_t',\n",
       " 'luminosityBlock': 'uint32_t',\n",
       " 'event': 'uint64_t',\n",
       " 'PV_npvs': 'int32_t',\n",
       " 'PV_x': 'float',\n",
       " 'PV_y': 'float',\n",
       " 'PV_z': 'float',\n",
       " 'nMuon': 'uint32_t',\n",
       " 'Muon_pt': 'float[]',\n",
       " 'Muon_eta': 'float[]',\n",
       " 'Muon_phi': 'float[]',\n",
       " 'Muon_mass': 'float[]',\n",
       " 'Muon_charge': 'int32_t[]',\n",
       " 'Muon_pfRelIso04_all': 'float[]',\n",
       " 'Muon_tightId': 'bool[]'}"
      ]
     },
     "execution_count": 26,
     "metadata": {},
     "output_type": "execute_result"
    }
   ],
   "source": [
    "tree.typenames()"
   ]
  },
  {
   "cell_type": "code",
   "execution_count": 27,
   "metadata": {},
   "outputs": [
    {
     "data": {
      "text/plain": [
       "True"
      ]
     },
     "execution_count": 27,
     "metadata": {},
     "output_type": "execute_result"
    }
   ],
   "source": [
    "isinstance(tree, Mapping)"
   ]
  },
  {
   "cell_type": "code",
   "execution_count": 28,
   "metadata": {},
   "outputs": [
    {
     "data": {
      "text/plain": [
       "['Muon_pt',\n",
       " 'Muon_eta',\n",
       " 'Muon_phi',\n",
       " 'Muon_mass',\n",
       " 'Muon_charge',\n",
       " 'Muon_pfRelIso04_all',\n",
       " 'Muon_tightId']"
      ]
     },
     "execution_count": 28,
     "metadata": {},
     "output_type": "execute_result"
    }
   ],
   "source": [
    "tree.keys(filter_name=\"Muon_*\")"
   ]
  },
  {
   "cell_type": "code",
   "execution_count": 29,
   "metadata": {},
   "outputs": [
    {
     "data": {
      "text/plain": [
       "['Muon_pt', 'Muon_eta', 'Muon_phi', 'Muon_mass', 'Muon_pfRelIso04_all']"
      ]
     },
     "execution_count": 29,
     "metadata": {},
     "output_type": "execute_result"
    }
   ],
   "source": [
    "tree.keys(filter_typename=\"float[]\")"
   ]
  },
  {
   "cell_type": "code",
   "execution_count": 30,
   "metadata": {},
   "outputs": [
    {
     "data": {
      "text/plain": [
       "['run', 'luminosityBlock', 'event', 'PV_npvs', 'PV_x', 'PV_y', 'PV_z', 'nMuon']"
      ]
     },
     "execution_count": 30,
     "metadata": {},
     "output_type": "execute_result"
    }
   ],
   "source": [
    "tree.keys(filter_branch=lambda branch: not isinstance(branch.interpretation, uproot4.AsJagged))"
   ]
  },
  {
   "cell_type": "markdown",
   "metadata": {},
   "source": [
    "# Turning branches into arrays\n",
    "\n",
    "If a branch has a known interpretation, you can call `array` on it to get an array."
   ]
  },
  {
   "cell_type": "code",
   "execution_count": 31,
   "metadata": {},
   "outputs": [
    {
     "data": {
      "text/plain": [
       "<Array [[52, 42.9], [5.02, ... [18.3, 9.72]] type='1000000 * var * float32'>"
      ]
     },
     "execution_count": 31,
     "metadata": {},
     "output_type": "execute_result"
    }
   ],
   "source": [
    "tree[\"Muon_pt\"].array()"
   ]
  },
  {
   "cell_type": "markdown",
   "metadata": {},
   "source": [
    "First thing to notice: this is not a NumPy array. It's because the data have different numbers of values in each element (a jagged array)."
   ]
  },
  {
   "cell_type": "code",
   "execution_count": 32,
   "metadata": {},
   "outputs": [
    {
     "data": {
      "text/plain": [
       "[[52.00833511352539, 42.85704040527344],\n",
       " [5.019948482513428],\n",
       " [15.967432022094727, 12.481289863586426],\n",
       " [53.42825698852539, 38.43761444091797],\n",
       " [7.178549766540527, 5.597340106964111],\n",
       " [47.27000427246094, 39.6187858581543],\n",
       " [5.050840377807617, 16.29404067993164],\n",
       " [17.36166763305664, 26.066043853759766],\n",
       " [42.84968566894531, 74.1303482055664],\n",
       " [33.52196502685547, 21.316774368286133],\n",
       " [13.822826385498047, 27.89041519165039],\n",
       " [12.187352180480957],\n",
       " [24.41823387145996, 3.560229778289795, 28.34453010559082],\n",
       " [22.598438262939453, 9.5486421585083],\n",
       " [12.511752128601074, 11.833377838134766, 45.572383880615234],\n",
       " [35.032833099365234, 36.92668533325195],\n",
       " [39.79318618774414, 39.22704315185547],\n",
       " [42.45128631591797, 45.18961715698242],\n",
       " [17.6611270904541, 7.474045753479004],\n",
       " [6.152662754058838]]"
      ]
     },
     "execution_count": 32,
     "metadata": {},
     "output_type": "execute_result"
    }
   ],
   "source": [
    "tree[\"Muon_pt\"].array()[:20].tolist()"
   ]
  },
  {
   "cell_type": "markdown",
   "metadata": {},
   "source": [
    "We can (in Uproot 4) _force_ it to be a NumPy array, but it isn't pretty:"
   ]
  },
  {
   "cell_type": "code",
   "execution_count": 33,
   "metadata": {},
   "outputs": [
    {
     "data": {
      "text/plain": [
       "array([array([52.008335, 42.85704 ], dtype=float32),\n",
       "       array([5.0199485], dtype=float32),\n",
       "       array([15.967432, 12.48129 ], dtype=float32),\n",
       "       array([53.428257, 38.437614], dtype=float32),\n",
       "       array([7.17855, 5.59734], dtype=float32),\n",
       "       array([47.270004, 39.618786], dtype=float32),\n",
       "       array([ 5.0508404, 16.29404  ], dtype=float32),\n",
       "       array([17.361668, 26.066044], dtype=float32),\n",
       "       array([42.849686, 74.13035 ], dtype=float32),\n",
       "       array([33.521965, 21.316774], dtype=float32),\n",
       "       array([13.822826, 27.890415], dtype=float32),\n",
       "       array([12.187352], dtype=float32),\n",
       "       array([24.418234 ,  3.5602298, 28.34453  ], dtype=float32),\n",
       "       array([22.598438,  9.548642], dtype=float32),\n",
       "       array([12.511752, 11.833378, 45.572384], dtype=float32),\n",
       "       array([35.032833, 36.926685], dtype=float32),\n",
       "       array([39.793186, 39.227043], dtype=float32),\n",
       "       array([42.451286, 45.189617], dtype=float32),\n",
       "       array([17.661127 ,  7.4740458], dtype=float32),\n",
       "       array([6.1526628], dtype=float32)], dtype=object)"
      ]
     },
     "execution_count": 33,
     "metadata": {},
     "output_type": "execute_result"
    }
   ],
   "source": [
    "tree[\"Muon_pt\"].array(library=\"np\")[:20]"
   ]
  },
  {
   "cell_type": "markdown",
   "metadata": {},
   "source": [
    "The data type (`dtype`) of this NumPy array is `object`, meaning that each element it contains is a Python object, namely another NumPy array.\n",
    "\n",
    "The default is for all arrays to be Awkward arrays, but you can override this by specifying `library`.\n",
    "\n",
    "The difference is that Awkward arrays interpret nested lists as a second dimension, whereas NumPy object arrays do not:"
   ]
  },
  {
   "cell_type": "code",
   "execution_count": 34,
   "metadata": {},
   "outputs": [],
   "source": [
    "awkward_array = tree[\"Muon_pt\"].array(library=\"ak\")\n",
    "numpy_array = tree[\"Muon_pt\"].array(library=\"np\")"
   ]
  },
  {
   "cell_type": "code",
   "execution_count": 35,
   "metadata": {},
   "outputs": [
    {
     "data": {
      "text/plain": [
       "<Array [52, 5.02, 16, ... 42.5, 17.7, 6.15] type='20 * float32'>"
      ]
     },
     "execution_count": 35,
     "metadata": {},
     "output_type": "execute_result"
    }
   ],
   "source": [
    "# from the first 20 events, get the first item\n",
    "awkward_array[:20, 0]"
   ]
  },
  {
   "cell_type": "code",
   "execution_count": 36,
   "metadata": {
    "tags": [
     "raises-exception"
    ]
   },
   "outputs": [
    {
     "ename": "IndexError",
     "evalue": "too many indices for array",
     "output_type": "error",
     "traceback": [
      "\u001b[0;31m---------------------------------------------------------------------------\u001b[0m",
      "\u001b[0;31mIndexError\u001b[0m                                Traceback (most recent call last)",
      "\u001b[0;32m<ipython-input-36-daec92a4662c>\u001b[0m in \u001b[0;36m<module>\u001b[0;34m\u001b[0m\n\u001b[1;32m      1\u001b[0m \u001b[0;31m# doesn't work with NumPy object arrays because contents are not guaranteed to be arrays\u001b[0m\u001b[0;34m\u001b[0m\u001b[0;34m\u001b[0m\u001b[0;34m\u001b[0m\u001b[0m\n\u001b[0;32m----> 2\u001b[0;31m \u001b[0mnumpy_array\u001b[0m\u001b[0;34m[\u001b[0m\u001b[0;34m:\u001b[0m\u001b[0;36m20\u001b[0m\u001b[0;34m,\u001b[0m \u001b[0;36m0\u001b[0m\u001b[0;34m]\u001b[0m\u001b[0;34m\u001b[0m\u001b[0;34m\u001b[0m\u001b[0m\n\u001b[0m",
      "\u001b[0;31mIndexError\u001b[0m: too many indices for array"
     ]
    }
   ],
   "source": [
    "# doesn't work with NumPy object arrays because contents are not guaranteed to be arrays\n",
    "numpy_array[:20, 0]"
   ]
  },
  {
   "cell_type": "markdown",
   "metadata": {},
   "source": [
    "Another valid library is Pandas. Pandas has its own way of describing variable length structures (`MultiIndex`)."
   ]
  },
  {
   "cell_type": "code",
   "execution_count": 37,
   "metadata": {},
   "outputs": [
    {
     "data": {
      "text/plain": [
       "entry   subentry\n",
       "0       0           52.008335\n",
       "        1           42.857040\n",
       "1       0            5.019948\n",
       "2       0           15.967432\n",
       "        1           12.481290\n",
       "                      ...    \n",
       "999997  1            3.336458\n",
       "999998  0            4.999241\n",
       "        1           14.161738\n",
       "999999  0           18.304218\n",
       "        1            9.717607\n",
       "Length: 2366345, dtype: float32"
      ]
     },
     "execution_count": 37,
     "metadata": {},
     "output_type": "execute_result"
    }
   ],
   "source": [
    "tree[\"Muon_pt\"].array(library=\"pd\")"
   ]
  },
  {
   "cell_type": "markdown",
   "metadata": {},
   "source": [
    "In the original one-liner, we used colon (`:`) to separate a file path/URL from an object path to get to the branch:"
   ]
  },
  {
   "cell_type": "code",
   "execution_count": 38,
   "metadata": {},
   "outputs": [
    {
     "data": {
      "text/plain": [
       "<TBranch 'nMuon' at 0x7f867b5daad0>"
      ]
     },
     "execution_count": 38,
     "metadata": {},
     "output_type": "execute_result"
    }
   ],
   "source": [
    "uproot4.open(\"data/opendata_muons.root:Events/nMuon\")"
   ]
  },
  {
   "cell_type": "markdown",
   "metadata": {},
   "source": [
    "And \"cast\" the branch as a NumPy array, which is the same as calling `array` with `library=\"np\"`."
   ]
  },
  {
   "cell_type": "code",
   "execution_count": 39,
   "metadata": {},
   "outputs": [
    {
     "data": {
      "text/plain": [
       "array([2, 1, 2, ..., 2, 2, 2], dtype=uint32)"
      ]
     },
     "execution_count": 39,
     "metadata": {},
     "output_type": "execute_result"
    }
   ],
   "source": [
    "np.array(uproot4.open(\"data/opendata_muons.root:Events/nMuon\"))"
   ]
  },
  {
   "cell_type": "markdown",
   "metadata": {},
   "source": [
    "This can be useful if you're passing the branch to a library that expects an array. _(Warning: only do this with non-jagged arrays!)_"
   ]
  },
  {
   "cell_type": "code",
   "execution_count": 40,
   "metadata": {},
   "outputs": [
    {
     "data": {
      "image/png": "[encoded data removed]",
      "text/plain": [
       "<Figure size 432x288 with 1 Axes>"
      ]
     },
     "metadata": {
      "needs_background": "light"
     },
     "output_type": "display_data"
    }
   ],
   "source": [
    "import matplotlib.pyplot as plt\n",
    "\n",
    "plt.hist(uproot4.open(\"data/opendata_muons.root:Events/nMuon\"), bins=11, range=(-0.5, 10.5));"
   ]
  },
  {
   "cell_type": "markdown",
   "metadata": {},
   "source": [
    "# Pluralization\n",
    "\n",
    "If you look carefully, you'll notice that there's an `array` function and an `arrays` function. The latter gets multiple arrays."
   ]
  },
  {
   "cell_type": "code",
   "execution_count": 41,
   "metadata": {},
   "outputs": [
    {
     "data": {
      "text/plain": [
       "{'PV_npvs': array([ 1,  1,  1, ..., 12, 20,  9], dtype=int32),\n",
       " 'PV_x': array([0.0722459 , 0.0722459 , 0.0722459 , ..., 0.07219489, 0.07082949,\n",
       "        0.06881613], dtype=float32),\n",
       " 'PV_y': array([0.06209353, 0.06209353, 0.06209353, ..., 0.06237721, 0.06023057,\n",
       "        0.06337257], dtype=float32),\n",
       " 'PV_z': array([-0.0280992 , -0.0280992 , -0.0280992 , ...,  1.5894414 ,\n",
       "         0.87497556, -0.6417597 ], dtype=float32)}"
      ]
     },
     "execution_count": 41,
     "metadata": {},
     "output_type": "execute_result"
    }
   ],
   "source": [
    "# NumPy arrays in a dict\n",
    "pv_numpy = tree.arrays(filter_name=\"PV_*\", library=\"np\")\n",
    "pv_numpy"
   ]
  },
  {
   "cell_type": "code",
   "execution_count": 42,
   "metadata": {},
   "outputs": [
    {
     "data": {
      "text/plain": [
       "<Array [{PV_npvs: 1, ... PV_z: -0.642}] type='1000000 * {\"PV_npvs\": int32, \"PV_x...'>"
      ]
     },
     "execution_count": 42,
     "metadata": {},
     "output_type": "execute_result"
    }
   ],
   "source": [
    "# Awkward record-array\n",
    "pv_awkward = tree.arrays(filter_name=\"PV_*\", library=\"ak\")\n",
    "pv_awkward"
   ]
  },
  {
   "cell_type": "code",
   "execution_count": 43,
   "metadata": {},
   "outputs": [
    {
     "data": {
      "text/html": [
       "<div>\n",
       "<style scoped>\n",
       "    .dataframe tbody tr th:only-of-type {\n",
       "        vertical-align: middle;\n",
       "    }\n",
       "\n",
       "    .dataframe tbody tr th {\n",
       "        vertical-align: top;\n",
       "    }\n",
       "\n",
       "    .dataframe thead th {\n",
       "        text-align: right;\n",
       "    }\n",
       "</style>\n",
       "<table border=\"1\" class=\"dataframe\">\n",
       "  <thead>\n",
       "    <tr style=\"text-align: right;\">\n",
       "      <th></th>\n",
       "      <th>PV_npvs</th>\n",
       "      <th>PV_x</th>\n",
       "      <th>PV_y</th>\n",
       "      <th>PV_z</th>\n",
       "    </tr>\n",
       "  </thead>\n",
       "  <tbody>\n",
       "    <tr>\n",
       "      <th>0</th>\n",
       "      <td>1</td>\n",
       "      <td>0.072246</td>\n",
       "      <td>0.062094</td>\n",
       "      <td>-0.028099</td>\n",
       "    </tr>\n",
       "    <tr>\n",
       "      <th>1</th>\n",
       "      <td>1</td>\n",
       "      <td>0.072246</td>\n",
       "      <td>0.062094</td>\n",
       "      <td>-0.028099</td>\n",
       "    </tr>\n",
       "    <tr>\n",
       "      <th>2</th>\n",
       "      <td>1</td>\n",
       "      <td>0.072246</td>\n",
       "      <td>0.062094</td>\n",
       "      <td>-0.028099</td>\n",
       "    </tr>\n",
       "    <tr>\n",
       "      <th>3</th>\n",
       "      <td>1</td>\n",
       "      <td>0.072246</td>\n",
       "      <td>0.062094</td>\n",
       "      <td>-0.028099</td>\n",
       "    </tr>\n",
       "    <tr>\n",
       "      <th>4</th>\n",
       "      <td>1</td>\n",
       "      <td>0.072246</td>\n",
       "      <td>0.062094</td>\n",
       "      <td>-0.028099</td>\n",
       "    </tr>\n",
       "    <tr>\n",
       "      <th>...</th>\n",
       "      <td>...</td>\n",
       "      <td>...</td>\n",
       "      <td>...</td>\n",
       "      <td>...</td>\n",
       "    </tr>\n",
       "    <tr>\n",
       "      <th>999995</th>\n",
       "      <td>11</td>\n",
       "      <td>0.072857</td>\n",
       "      <td>0.059204</td>\n",
       "      <td>-0.903353</td>\n",
       "    </tr>\n",
       "    <tr>\n",
       "      <th>999996</th>\n",
       "      <td>16</td>\n",
       "      <td>0.073376</td>\n",
       "      <td>0.060643</td>\n",
       "      <td>0.519306</td>\n",
       "    </tr>\n",
       "    <tr>\n",
       "      <th>999997</th>\n",
       "      <td>12</td>\n",
       "      <td>0.072195</td>\n",
       "      <td>0.062377</td>\n",
       "      <td>1.589441</td>\n",
       "    </tr>\n",
       "    <tr>\n",
       "      <th>999998</th>\n",
       "      <td>20</td>\n",
       "      <td>0.070829</td>\n",
       "      <td>0.060231</td>\n",
       "      <td>0.874976</td>\n",
       "    </tr>\n",
       "    <tr>\n",
       "      <th>999999</th>\n",
       "      <td>9</td>\n",
       "      <td>0.068816</td>\n",
       "      <td>0.063373</td>\n",
       "      <td>-0.641760</td>\n",
       "    </tr>\n",
       "  </tbody>\n",
       "</table>\n",
       "<p>1000000 rows × 4 columns</p>\n",
       "</div>"
      ],
      "text/plain": [
       "        PV_npvs      PV_x      PV_y      PV_z\n",
       "0             1  0.072246  0.062094 -0.028099\n",
       "1             1  0.072246  0.062094 -0.028099\n",
       "2             1  0.072246  0.062094 -0.028099\n",
       "3             1  0.072246  0.062094 -0.028099\n",
       "4             1  0.072246  0.062094 -0.028099\n",
       "...         ...       ...       ...       ...\n",
       "999995       11  0.072857  0.059204 -0.903353\n",
       "999996       16  0.073376  0.060643  0.519306\n",
       "999997       12  0.072195  0.062377  1.589441\n",
       "999998       20  0.070829  0.060231  0.874976\n",
       "999999        9  0.068816  0.063373 -0.641760\n",
       "\n",
       "[1000000 rows x 4 columns]"
      ]
     },
     "execution_count": 43,
     "metadata": {},
     "output_type": "execute_result"
    }
   ],
   "source": [
    "# Pandas DataFrame (as opposed to Series for a single array)\n",
    "pv_pandas = tree.arrays(filter_name=\"PV_*\", library=\"pd\")\n",
    "pv_pandas"
   ]
  },
  {
   "cell_type": "markdown",
   "metadata": {},
   "source": [
    "All of these are \"packages\" of arrays that you might use in your analysis."
   ]
  },
  {
   "cell_type": "code",
   "execution_count": 44,
   "metadata": {},
   "outputs": [
    {
     "data": {
      "text/plain": [
       "array([0.0722459 , 0.0722459 , 0.0722459 , ..., 0.07219489, 0.07082949,\n",
       "       0.06881613], dtype=float32)"
      ]
     },
     "execution_count": 44,
     "metadata": {},
     "output_type": "execute_result"
    }
   ],
   "source": [
    "pv_numpy[\"PV_x\"]"
   ]
  },
  {
   "cell_type": "code",
   "execution_count": 45,
   "metadata": {},
   "outputs": [
    {
     "data": {
      "text/plain": [
       "<Array [0.0722, 0.0722, ... 0.0708, 0.0688] type='1000000 * float32'>"
      ]
     },
     "execution_count": 45,
     "metadata": {},
     "output_type": "execute_result"
    }
   ],
   "source": [
    "pv_awkward[\"PV_x\"]"
   ]
  },
  {
   "cell_type": "code",
   "execution_count": 46,
   "metadata": {},
   "outputs": [
    {
     "data": {
      "text/plain": [
       "<Array [0.0722, 0.0722, ... 0.0708, 0.0688] type='1000000 * float32'>"
      ]
     },
     "execution_count": 46,
     "metadata": {},
     "output_type": "execute_result"
    }
   ],
   "source": [
    "pv_awkward.PV_x"
   ]
  },
  {
   "cell_type": "code",
   "execution_count": 47,
   "metadata": {},
   "outputs": [
    {
     "data": {
      "text/plain": [
       "0         0.072246\n",
       "1         0.072246\n",
       "2         0.072246\n",
       "3         0.072246\n",
       "4         0.072246\n",
       "            ...   \n",
       "999995    0.072857\n",
       "999996    0.073376\n",
       "999997    0.072195\n",
       "999998    0.070829\n",
       "999999    0.068816\n",
       "Name: PV_x, Length: 1000000, dtype: float32"
      ]
     },
     "execution_count": 47,
     "metadata": {},
     "output_type": "execute_result"
    }
   ],
   "source": [
    "pv_pandas[\"PV_x\"]"
   ]
  },
  {
   "cell_type": "code",
   "execution_count": 48,
   "metadata": {},
   "outputs": [
    {
     "data": {
      "text/plain": [
       "0         0.072246\n",
       "1         0.072246\n",
       "2         0.072246\n",
       "3         0.072246\n",
       "4         0.072246\n",
       "            ...   \n",
       "999995    0.072857\n",
       "999996    0.073376\n",
       "999997    0.072195\n",
       "999998    0.070829\n",
       "999999    0.068816\n",
       "Name: PV_x, Length: 1000000, dtype: float32"
      ]
     },
     "execution_count": 48,
     "metadata": {},
     "output_type": "execute_result"
    }
   ],
   "source": [
    "pv_pandas.PV_x"
   ]
  },
  {
   "cell_type": "markdown",
   "metadata": {},
   "source": [
    "Above, we used `filter_name` to select branches that match a pattern. We can also request specific branches:"
   ]
  },
  {
   "cell_type": "code",
   "execution_count": 49,
   "metadata": {},
   "outputs": [
    {
     "data": {
      "text/plain": [
       "<Array [{PV_x: 0.0722, ... PV_z: -0.642}] type='1000000 * {\"PV_x\": float32, \"PV_...'>"
      ]
     },
     "execution_count": 49,
     "metadata": {},
     "output_type": "execute_result"
    }
   ],
   "source": [
    "tree.arrays([\"PV_x\", \"PV_y\", \"PV_z\"])"
   ]
  },
  {
   "cell_type": "markdown",
   "metadata": {},
   "source": [
    "Or do calculations. (This feature exists for TTree aliases, which can be formulas.)"
   ]
  },
  {
   "cell_type": "code",
   "execution_count": 50,
   "metadata": {},
   "outputs": [
    {
     "data": {
      "text/plain": [
       "<Array [{PV: 0.0993}, ... {PV: 0.649}] type='1000000 * {\"PV\": float32}'>"
      ]
     },
     "execution_count": 50,
     "metadata": {},
     "output_type": "execute_result"
    }
   ],
   "source": [
    "tree.arrays(\"PV\", aliases={\"PV\": \"sqrt(PV_x**2 + PV_y**2 + PV_z**2)\"})"
   ]
  },
  {
   "cell_type": "code",
   "execution_count": 51,
   "metadata": {},
   "outputs": [
    {
     "data": {
      "text/plain": [
       "<Array [{PV: 0.0993}, ... {PV: 0.649}] type='954099 * {\"PV\": float32}'>"
      ]
     },
     "execution_count": 51,
     "metadata": {},
     "output_type": "execute_result"
    }
   ],
   "source": [
    "tree.arrays(\"PV\", cut=\"sqrt(PV_x**2 + PV_y**2) < 0.1\", aliases={\"PV\": \"sqrt(PV_x**2 + PV_y**2 + PV_z**2)\"})"
   ]
  },
  {
   "cell_type": "markdown",
   "metadata": {},
   "source": [
    "# Multiple files\n",
    "\n",
    "Typically, you'll have a lot of files with similar contents.\n",
    "\n",
    "## Concatenation\n",
    "\n",
    "The simplest way to deal with this is to read a selection of branches entirely into memory, concatenating them.\n",
    "\n",
    "If you have enough memory, go for it!"
   ]
  },
  {
   "cell_type": "code",
   "execution_count": 52,
   "metadata": {},
   "outputs": [
    {
     "data": {
      "text/plain": [
       "<Array [{i4: -15, ai8: [, ... str: 'hey-29'}] type='420 * {\"i4\": int64, \"ai8\": 3...'>"
      ]
     },
     "execution_count": 52,
     "metadata": {},
     "output_type": "execute_result"
    }
   ],
   "source": [
    "all_in_memory = uproot4.concatenate(\"data/uproot-sample-*.root:sample\", [\"i4\", \"ai8\", \"Af8\", \"str\"])\n",
    "all_in_memory"
   ]
  },
  {
   "cell_type": "code",
   "execution_count": 53,
   "metadata": {},
   "outputs": [
    {
     "data": {
      "text/plain": [
       "<Array [-15, -14, -13, -12, ... 11, 12, 13, 14] type='420 * int64'>"
      ]
     },
     "execution_count": 53,
     "metadata": {},
     "output_type": "execute_result"
    }
   ],
   "source": [
    "all_in_memory.i4"
   ]
  },
  {
   "cell_type": "code",
   "execution_count": 54,
   "metadata": {},
   "outputs": [
    {
     "data": {
      "text/plain": [
       "<Array [[-14, -13, -12], ... [15, 16, 17]] type='420 * 3 * int64'>"
      ]
     },
     "execution_count": 54,
     "metadata": {},
     "output_type": "execute_result"
    }
   ],
   "source": [
    "all_in_memory.ai8"
   ]
  },
  {
   "cell_type": "code",
   "execution_count": 55,
   "metadata": {},
   "outputs": [
    {
     "data": {
      "text/plain": [
       "<Array [[], [-15], ... 10, 11.1, 12.2, 13.3]] type='420 * var * float64'>"
      ]
     },
     "execution_count": 55,
     "metadata": {},
     "output_type": "execute_result"
    }
   ],
   "source": [
    "all_in_memory.Af8"
   ]
  },
  {
   "cell_type": "code",
   "execution_count": 56,
   "metadata": {},
   "outputs": [
    {
     "data": {
      "text/plain": [
       "<Array ['hey-0', 'hey-1', ... 'hey-29'] type='420 * string'>"
      ]
     },
     "execution_count": 56,
     "metadata": {},
     "output_type": "execute_result"
    }
   ],
   "source": [
    "all_in_memory.str"
   ]
  },
  {
   "cell_type": "markdown",
   "metadata": {},
   "source": [
    "But, often enough, you don't have enough memory. What then?\n",
    "\n",
    "## Laziness\n",
    "\n",
    "One option is to open them as lazy arrays, which opens the files (to get the number of events in each), but doesn't read the data until you use it."
   ]
  },
  {
   "cell_type": "code",
   "execution_count": 57,
   "metadata": {},
   "outputs": [
    {
     "data": {
      "text/plain": [
       "<Array [{n: 0, b: True, ... str: 'hey-29'}] type='420 * {\"n\": int32, \"b\": bool, ...'>"
      ]
     },
     "execution_count": 57,
     "metadata": {},
     "output_type": "execute_result"
    }
   ],
   "source": [
    "not_in_memory_yet = uproot4.lazy(\"data/uproot-sample-*.root:sample\")\n",
    "not_in_memory_yet"
   ]
  },
  {
   "cell_type": "markdown",
   "metadata": {},
   "source": [
    "\"If it's not in memory, how can I see the values?\"\n",
    "\n",
    "Only the parts of the files (branches and batches of events) that are visible are read. In the above, `n` and `b` from the first file and `str` from the last file must have been read.\n",
    "\n",
    "Let's get the `Af8` field:"
   ]
  },
  {
   "cell_type": "code",
   "execution_count": 58,
   "metadata": {},
   "outputs": [
    {
     "data": {
      "text/plain": [
       "<Array [[], [-15], ... 10, 11.1, 12.2, 13.3]] type='420 * var * float64'>"
      ]
     },
     "execution_count": 58,
     "metadata": {},
     "output_type": "execute_result"
    }
   ],
   "source": [
    "not_in_memory_yet.Af8"
   ]
  },
  {
   "cell_type": "markdown",
   "metadata": {},
   "source": [
    "Again, this only read from the first and last files to show the first and last values.\n",
    "\n",
    "A mathematical operation would cause them all to be read in."
   ]
  },
  {
   "cell_type": "code",
   "execution_count": 59,
   "metadata": {},
   "outputs": [
    {
     "data": {
      "text/plain": [
       "<Array [[], [85], ... [110, 111, 112, 113]] type='420 * var * float64'>"
      ]
     },
     "execution_count": 59,
     "metadata": {},
     "output_type": "execute_result"
    }
   ],
   "source": [
    "not_in_memory_yet.Af8 + 100"
   ]
  },
  {
   "cell_type": "markdown",
   "metadata": {},
   "source": [
    "## Controlling the lazy cache\n",
    "\n",
    "After (part of) a lazy array has been read, how long does it stay in memory? Is it constantly being re-read every time we do a calculation?\n",
    "\n",
    "By default, a 100 MB cache is associated with the lazy array, but we can provide our own if we want a bigger or smaller one."
   ]
  },
  {
   "cell_type": "code",
   "execution_count": 60,
   "metadata": {},
   "outputs": [],
   "source": [
    "cache = uproot4.LRUArrayCache(\"1 GB\")\n",
    "\n",
    "not_in_memory_yet = uproot4.lazy(\"data/uproot-sample-*.root:sample\", array_cache=cache)"
   ]
  },
  {
   "cell_type": "code",
   "execution_count": 61,
   "metadata": {},
   "outputs": [
    {
     "data": {
      "text/plain": [
       "<LRUArrayCache (0/1073741824 bytes full) at 0x7f867b8b3a50>"
      ]
     },
     "execution_count": 61,
     "metadata": {},
     "output_type": "execute_result"
    }
   ],
   "source": [
    "cache"
   ]
  },
  {
   "cell_type": "code",
   "execution_count": 62,
   "metadata": {},
   "outputs": [
    {
     "data": {
      "text/plain": [
       "<Array [{n: 0, b: True, ... str: 'hey-29'}] type='420 * {\"n\": int32, \"b\": bool, ...'>"
      ]
     },
     "execution_count": 62,
     "metadata": {},
     "output_type": "execute_result"
    }
   ],
   "source": [
    "not_in_memory_yet"
   ]
  },
  {
   "cell_type": "code",
   "execution_count": 63,
   "metadata": {},
   "outputs": [
    {
     "data": {
      "text/plain": [
       "<LRUArrayCache (1386/1073741824 bytes full) at 0x7f867b8b3a50>"
      ]
     },
     "execution_count": 63,
     "metadata": {},
     "output_type": "execute_result"
    }
   ],
   "source": [
    "cache"
   ]
  },
  {
   "cell_type": "code",
   "execution_count": 64,
   "metadata": {},
   "outputs": [
    {
     "data": {
      "text/plain": [
       "<Array [{n: 100, b: 101, ab: [, ... 150, 157]}] type='420 * {\"n\": int32, \"b\": in...'>"
      ]
     },
     "execution_count": 64,
     "metadata": {},
     "output_type": "execute_result"
    }
   ],
   "source": [
    "not_in_memory_yet + 100"
   ]
  },
  {
   "cell_type": "code",
   "execution_count": 65,
   "metadata": {},
   "outputs": [
    {
     "data": {
      "text/plain": [
       "<LRUArrayCache (154084/1073741824 bytes full) at 0x7f867b8b3a50>"
      ]
     },
     "execution_count": 65,
     "metadata": {},
     "output_type": "execute_result"
    }
   ],
   "source": [
    "cache"
   ]
  },
  {
   "cell_type": "markdown",
   "metadata": {},
   "source": [
    "What's more, we can clear it when we need to."
   ]
  },
  {
   "cell_type": "code",
   "execution_count": 66,
   "metadata": {},
   "outputs": [],
   "source": [
    "cache.clear()"
   ]
  },
  {
   "cell_type": "code",
   "execution_count": 67,
   "metadata": {},
   "outputs": [
    {
     "data": {
      "text/plain": [
       "<LRUArrayCache (0/1073741824 bytes full) at 0x7f867b8b3a50>"
      ]
     },
     "execution_count": 67,
     "metadata": {},
     "output_type": "execute_result"
    }
   ],
   "source": [
    "cache"
   ]
  },
  {
   "cell_type": "markdown",
   "metadata": {},
   "source": [
    "## Iteration\n",
    "\n",
    "But often, that's still not enough control.\n",
    "\n",
    "We don't read arrays into memory for the fun of it, we do it to perform calculations, and lazy arrays don't control which parts of which arrays are in memory during a calculation.\n",
    "\n",
    "If you're worried about memory, the safest thing to do is to iterate over the data."
   ]
  },
  {
   "cell_type": "code",
   "execution_count": 68,
   "metadata": {},
   "outputs": [
    {
     "name": "stdout",
     "output_type": "stream",
     "text": [
      "[[], [-29], [-28, -26.9], [-27, -25.9, ... [23, 24.1, 25.2], [24, 25.1, 26.2, 27.3]]\n",
      "[[], [-29], [-28, -26.9], [-27, -25.9, ... [23, 24.1, 25.2], [24, 25.1, 26.2, 27.3]]\n",
      "[[], [-29], [-28, -26.9], [-27, -25.9, ... [23, 24.1, 25.2], [24, 25.1, 26.2, 27.3]]\n",
      "[[], [-29], [-28, -26.9], [-27, -25.9, ... [23, 24.1, 25.2], [24, 25.1, 26.2, 27.3]]\n",
      "[[], [-29], [-28, -26.9], [-27, -25.9, ... [23, 24.1, 25.2], [24, 25.1, 26.2, 27.3]]\n",
      "[[], [-29], [-28, -26.9], [-27, -25.9, ... [23, 24.1, 25.2], [24, 25.1, 26.2, 27.3]]\n",
      "[[], [-29], [-28, -26.9], [-27, -25.9, ... [23, 24.1, 25.2], [24, 25.1, 26.2, 27.3]]\n",
      "[[], [-29], [-28, -26.9], [-27, -25.9, ... [23, 24.1, 25.2], [24, 25.1, 26.2, 27.3]]\n",
      "[[], [-29], [-28, -26.9], [-27, -25.9, ... [23, 24.1, 25.2], [24, 25.1, 26.2, 27.3]]\n",
      "[[], [-29], [-28, -26.9], [-27, -25.9, ... [23, 24.1, 25.2], [24, 25.1, 26.2, 27.3]]\n",
      "[[], [-29], [-28, -26.9], [-27, -25.9, ... [23, 24.1, 25.2], [24, 25.1, 26.2, 27.3]]\n",
      "[[], [-29], [-28, -26.9], [-27, -25.9, ... [23, 24.1, 25.2], [24, 25.1, 26.2, 27.3]]\n",
      "[[], [-29], [-28, -26.9], [-27, -25.9, ... [23, 24.1, 25.2], [24, 25.1, 26.2, 27.3]]\n",
      "[[], [-29], [-28, -26.9], [-27, -25.9, ... [23, 24.1, 25.2], [24, 25.1, 26.2, 27.3]]\n"
     ]
    }
   ],
   "source": [
    "for arrays in uproot4.iterate(\"data/uproot-sample-*.root:sample\", [\"i4\", \"Af8\"]):\n",
    "    print(arrays[\"i4\"] + arrays[\"Af8\"])"
   ]
  },
  {
   "cell_type": "markdown",
   "metadata": {},
   "source": [
    "This iteration is _not_ one event at a time. (This set of TTrees has 420 entries.) It's a _chunk of events_ at a time.\n",
    "\n",
    "In each step, a chunk of events for all specified arrays (`[\"i4\", \"Af8\"]`) is read. You do your calculation, move on to the next step, and all the previous arrays are dropped. (Only TBasket data carries over if event steps don't line up with TBasket boundaries—a low-level detail.)"
   ]
  },
  {
   "cell_type": "markdown",
   "metadata": {},
   "source": [
    "# Weird objects\n",
    "\n",
    "Although Uproot is primarily for TTrees with simple types, it is possible to read some complex types."
   ]
  },
  {
   "cell_type": "code",
   "execution_count": 69,
   "metadata": {},
   "outputs": [],
   "source": [
    "weird = uproot4.open(\"data/uproot-stl_containers.root:tree\")"
   ]
  },
  {
   "cell_type": "code",
   "execution_count": 70,
   "metadata": {},
   "outputs": [
    {
     "name": "stdout",
     "output_type": "stream",
     "text": [
      "name                 | typename             | interpretation                    \n",
      "---------------------+----------------------+-----------------------------------\n",
      "string               | std::string          | AsStrings()                       \n",
      "tstring              | TString              | AsStrings()                       \n",
      "vector_int32         | std::vector<int32_t> | AsJagged(AsDtype('>i4'), header_by\n",
      "vector_string        | std::vector<std::str | AsObjects(AsVector(True, AsString(\n",
      "vector_tstring       | std::vector<TString> | AsObjects(AsVector(True, AsString(\n",
      "vector_vector_int32  | std::vector<std::vec | AsObjects(AsVector(True, AsVector(\n",
      "vector_vector_string | std::vector<std::vec | AsObjects(AsVector(True, AsVector(\n",
      "vector_vector_tstrin | std::vector<std::vec | AsObjects(AsVector(True, AsVector(\n",
      "vector_set_int32     | std::vector<std::set | AsObjects(AsVector(True, AsSet(Fal\n",
      "vector_set_string    | std::vector<std::set | AsObjects(AsVector(True, AsSet(Fal\n",
      "set_int32            | std::set<int32_t>    | AsObjects(AsSet(True, dtype('>i4')\n",
      "set_string           | std::set<std::string | AsObjects(AsSet(True, AsString(Fal\n",
      "map_int32_int16      | std::map<int32_t, in | AsObjects(AsMap(True, dtype('>i4')\n",
      "map_int32_vector_int | std::map<int32_t, st | AsObjects(AsMap(True, dtype('>i4')\n",
      "map_int32_vector_str | std::map<int32_t, st | AsObjects(AsMap(True, dtype('>i4')\n",
      "map_int32_set_int16  | std::map<int32_t, st | AsObjects(AsMap(True, dtype('>i4')\n",
      "map_int32_set_string | std::map<int32_t, st | AsObjects(AsMap(True, dtype('>i4')\n",
      "map_string_int16     | std::map<std::string | AsObjects(AsMap(True, AsString(Tru\n",
      "map_string_vector_in | std::map<std::string | AsObjects(AsMap(True, AsString(Tru\n",
      "map_string_vector_st | std::map<std::string | AsObjects(AsMap(True, AsString(Tru\n",
      "map_string_set_int16 | std::map<std::string | AsObjects(AsMap(True, AsString(Tru\n",
      "map_string_set_strin | std::map<std::string | AsObjects(AsMap(True, AsString(Tru\n",
      "map_int32_vector_vec | std::map<int32_t, st | AsObjects(AsMap(True, dtype('>i4')\n",
      "map_int32_vector_set | std::map<int32_t, st | AsObjects(AsMap(True, dtype('>i4')\n",
      "map_string_string    | std::map<std::string | AsObjects(AsMap(True, AsString(Tru\n",
      "map_string_tstring   | std::map<std::string | AsObjects(AsMap(True, AsString(Tru\n"
     ]
    }
   ],
   "source": [
    "weird.show()"
   ]
  },
  {
   "cell_type": "code",
   "execution_count": 71,
   "metadata": {},
   "outputs": [
    {
     "data": {
      "text/plain": [
       "array([<STLMap {'one': ['one']} at 0x7f86437d7d50>,\n",
       "       <STLMap {'one': ['one'], 'two': ['one', 'two']} at 0x7f86437db990>,\n",
       "       <STLMap {'one': ['one'], ..., 'two': ['one', 'two']} at 0x7f86437ddd50>,\n",
       "       <STLMap {'four': ['one', 'two', 'three', 'four'], ...} at 0x7f867fb524d0>,\n",
       "       <STLMap {'five': ['one', 'two', 'three', 'four', 'five'], ...} at 0x7f867b994d90>],\n",
       "      dtype=object)"
      ]
     },
     "execution_count": 71,
     "metadata": {},
     "output_type": "execute_result"
    }
   ],
   "source": [
    "np.array(weird[\"map_string_vector_string\"])"
   ]
  },
  {
   "cell_type": "code",
   "execution_count": 72,
   "metadata": {},
   "outputs": [],
   "source": [
    "HZZ = uproot4.open(\"data/uproot-HZZ-objects.root:events\")"
   ]
  },
  {
   "cell_type": "code",
   "execution_count": 73,
   "metadata": {},
   "outputs": [
    {
     "name": "stdout",
     "output_type": "stream",
     "text": [
      "name                 | typename             | interpretation                    \n",
      "---------------------+----------------------+-----------------------------------\n",
      "jetp4                | std::vector<TLorentz | AsJagged(AsStridedObjects(Model_TL\n",
      "jetbtag              | std::vector<float>   | AsJagged(AsDtype('>f4'), header_by\n",
      "jetid                | std::vector<bool>    | AsJagged(AsDtype('bool'), header_b\n",
      "muonp4               | std::vector<TLorentz | AsJagged(AsStridedObjects(Model_TL\n",
      "muonq                | std::vector<int32_t> | AsJagged(AsDtype('>i4'), header_by\n",
      "muoniso              | std::vector<float>   | AsJagged(AsDtype('>f4'), header_by\n",
      "electronp4           | std::vector<TLorentz | AsJagged(AsStridedObjects(Model_TL\n",
      "electronq            | std::vector<int32_t> | AsJagged(AsDtype('>i4'), header_by\n",
      "electroniso          | std::vector<float>   | AsJagged(AsDtype('>f4'), header_by\n",
      "photonp4             | std::vector<TLorentz | AsJagged(AsStridedObjects(Model_TL\n",
      "photoniso            | std::vector<float>   | AsJagged(AsDtype('>f4'), header_by\n",
      "MET                  | TVector2             | AsStridedObjects(Model_TVector2_v3\n",
      "MC_bquarkhadronic    | TVector3             | AsStridedObjects(Model_TVector3_v3\n",
      "MC_bquarkleptonic    | TVector3             | AsStridedObjects(Model_TVector3_v3\n",
      "MC_wdecayb           | TVector3             | AsStridedObjects(Model_TVector3_v3\n",
      "MC_wdecaybbar        | TVector3             | AsStridedObjects(Model_TVector3_v3\n",
      "MC_lepton            | TVector3             | AsStridedObjects(Model_TVector3_v3\n",
      "MC_leptonpdgid       | int32_t              | AsDtype('>i4')                    \n",
      "MC_neutrino          | TVector3             | AsStridedObjects(Model_TVector3_v3\n",
      "num_primaryvertex    | int32_t              | AsDtype('>i4')                    \n",
      "trigger_isomu24      | bool                 | AsDtype('bool')                   \n",
      "eventweight          | float                | AsDtype('>f4')                    \n"
     ]
    }
   ],
   "source": [
    "HZZ.show()"
   ]
  },
  {
   "cell_type": "code",
   "execution_count": 74,
   "metadata": {},
   "outputs": [
    {
     "data": {
      "text/html": [
       "<div>\n",
       "<style scoped>\n",
       "    .dataframe tbody tr th:only-of-type {\n",
       "        vertical-align: middle;\n",
       "    }\n",
       "\n",
       "    .dataframe tbody tr th {\n",
       "        vertical-align: top;\n",
       "    }\n",
       "\n",
       "    .dataframe thead tr th {\n",
       "        text-align: left;\n",
       "    }\n",
       "\n",
       "    .dataframe thead tr:last-of-type th {\n",
       "        text-align: right;\n",
       "    }\n",
       "</style>\n",
       "<table border=\"1\" class=\"dataframe\">\n",
       "  <thead>\n",
       "    <tr>\n",
       "      <th></th>\n",
       "      <th></th>\n",
       "      <th colspan=\"3\" halign=\"left\">fP</th>\n",
       "      <th>fE</th>\n",
       "    </tr>\n",
       "    <tr>\n",
       "      <th></th>\n",
       "      <th></th>\n",
       "      <th>fX</th>\n",
       "      <th>fY</th>\n",
       "      <th>fZ</th>\n",
       "      <th></th>\n",
       "    </tr>\n",
       "    <tr>\n",
       "      <th>entry</th>\n",
       "      <th>subentry</th>\n",
       "      <th></th>\n",
       "      <th></th>\n",
       "      <th></th>\n",
       "      <th></th>\n",
       "    </tr>\n",
       "  </thead>\n",
       "  <tbody>\n",
       "    <tr>\n",
       "      <th rowspan=\"2\" valign=\"top\">0</th>\n",
       "      <th>0</th>\n",
       "      <td>-52.899456</td>\n",
       "      <td>-11.654672</td>\n",
       "      <td>-8.160793</td>\n",
       "      <td>54.779499</td>\n",
       "    </tr>\n",
       "    <tr>\n",
       "      <th>1</th>\n",
       "      <td>37.737782</td>\n",
       "      <td>0.693474</td>\n",
       "      <td>-11.307582</td>\n",
       "      <td>39.401695</td>\n",
       "    </tr>\n",
       "    <tr>\n",
       "      <th>1</th>\n",
       "      <th>0</th>\n",
       "      <td>-0.816459</td>\n",
       "      <td>-24.404259</td>\n",
       "      <td>20.199968</td>\n",
       "      <td>31.690445</td>\n",
       "    </tr>\n",
       "    <tr>\n",
       "      <th rowspan=\"2\" valign=\"top\">2</th>\n",
       "      <th>0</th>\n",
       "      <td>48.987831</td>\n",
       "      <td>-21.723139</td>\n",
       "      <td>11.168285</td>\n",
       "      <td>54.739788</td>\n",
       "    </tr>\n",
       "    <tr>\n",
       "      <th>1</th>\n",
       "      <td>0.827567</td>\n",
       "      <td>29.800508</td>\n",
       "      <td>36.965191</td>\n",
       "      <td>47.488857</td>\n",
       "    </tr>\n",
       "    <tr>\n",
       "      <th>...</th>\n",
       "      <th>...</th>\n",
       "      <td>...</td>\n",
       "      <td>...</td>\n",
       "      <td>...</td>\n",
       "      <td>...</td>\n",
       "    </tr>\n",
       "    <tr>\n",
       "      <th>2416</th>\n",
       "      <th>0</th>\n",
       "      <td>-39.285824</td>\n",
       "      <td>-14.607491</td>\n",
       "      <td>61.715790</td>\n",
       "      <td>74.602982</td>\n",
       "    </tr>\n",
       "    <tr>\n",
       "      <th>2417</th>\n",
       "      <th>0</th>\n",
       "      <td>35.067146</td>\n",
       "      <td>-14.150043</td>\n",
       "      <td>160.817917</td>\n",
       "      <td>165.203949</td>\n",
       "    </tr>\n",
       "    <tr>\n",
       "      <th>2418</th>\n",
       "      <th>0</th>\n",
       "      <td>-29.756786</td>\n",
       "      <td>-15.303859</td>\n",
       "      <td>-52.663750</td>\n",
       "      <td>62.395161</td>\n",
       "    </tr>\n",
       "    <tr>\n",
       "      <th>2419</th>\n",
       "      <th>0</th>\n",
       "      <td>1.141870</td>\n",
       "      <td>63.609570</td>\n",
       "      <td>162.176315</td>\n",
       "      <td>174.208633</td>\n",
       "    </tr>\n",
       "    <tr>\n",
       "      <th>2420</th>\n",
       "      <th>0</th>\n",
       "      <td>23.913206</td>\n",
       "      <td>-35.665077</td>\n",
       "      <td>54.719437</td>\n",
       "      <td>69.556213</td>\n",
       "    </tr>\n",
       "  </tbody>\n",
       "</table>\n",
       "<p>3825 rows × 4 columns</p>\n",
       "</div>"
      ],
      "text/plain": [
       "                       fP                                 fE\n",
       "                       fX         fY          fZ            \n",
       "entry subentry                                              \n",
       "0     0        -52.899456 -11.654672   -8.160793   54.779499\n",
       "      1         37.737782   0.693474  -11.307582   39.401695\n",
       "1     0         -0.816459 -24.404259   20.199968   31.690445\n",
       "2     0         48.987831 -21.723139   11.168285   54.739788\n",
       "      1          0.827567  29.800508   36.965191   47.488857\n",
       "...                   ...        ...         ...         ...\n",
       "2416  0        -39.285824 -14.607491   61.715790   74.602982\n",
       "2417  0         35.067146 -14.150043  160.817917  165.203949\n",
       "2418  0        -29.756786 -15.303859  -52.663750   62.395161\n",
       "2419  0          1.141870  63.609570  162.176315  174.208633\n",
       "2420  0         23.913206 -35.665077   54.719437   69.556213\n",
       "\n",
       "[3825 rows x 4 columns]"
      ]
     },
     "execution_count": 74,
     "metadata": {},
     "output_type": "execute_result"
    }
   ],
   "source": [
    "HZZ[\"muonp4\"].array(library=\"pd\")"
   ]
  },
  {
   "cell_type": "markdown",
   "metadata": {},
   "source": [
    "Many errors that people report as \"Uproot can't read type X\" don't have anything to do with type X. To help zero in on actual deserialization errors, a lot more diagnostic information has been included.\n",
    "\n",
    "In Uproot 4, this is what a deserialization error looks like (in THashList, encountered last Thursday):\n",
    "\n",
    "```\n",
    "    TH1F version 2 as <dynamic>.Model_TH1F_v2 (939 bytes)\n",
    "        TH1 version 7 as <dynamic>.Model_TH1_v7 (893 bytes)\n",
    "            (base): <TNamed 'cutflow' title='dijethad' at 0x7fafb4505f90>\n",
    "            (base): <TAttLine (version 2) at 0x7fafb4506350>\n",
    "            (base): <TAttFill (version 2) at 0x7fafb4506390>\n",
    "            (base): <TAttMarker (version 2) at 0x7fafb4506310>\n",
    "            fNcells: 9\n",
    "            TAxis version 9 as <dynamic>.Model_TAxis_v9 (417 bytes)\n",
    "                (base): <TNamed 'xaxis' at 0x7fafb4506890>\n",
    "                (base): <TAttAxis (version 4) at 0x7fafb4506950>\n",
    "                fNbins: 7\n",
    "                fXmin: 0.0\n",
    "                fXmax: 7.0\n",
    "                fXbins: <TArrayD [] at 0x7fafb4506910>\n",
    "                fFirst: 0\n",
    "                fLast: 0\n",
    "                fBits2: 4\n",
    "                fTimeDisplay: False\n",
    "                fTimeFormat: <TString '' at 0x7fafb44dc1d0>\n",
    "                THashList version 5 as <dynamic>.Model_THashList_v0 (294 bytes)\n",
    "                    TList version 1 as uproot4.models.TList.Model_TList (? bytes)\n",
    "                        (base): <TObject None None at 0x7fafb4506fd0>\n",
    "                        fName: ''\n",
    "                        fSize: 475136\n",
    "\n",
    "attempting to get bytes 1851028560:1851028561\n",
    "outside expected range 0:939 for this Chunk\n",
    "in file /home/pivarski/miniconda3/lib/python3.7/site-packages/skhep_testdata/data/uproot-issue33.root\n",
    "in object /cutflow\n",
    "```"
   ]
  },
  {
   "cell_type": "markdown",
   "metadata": {},
   "source": [
    "# To split or not to split\n",
    "\n",
    "\"Splitting branches\" is a technical detail in ROOT, but very important in Uproot, since Uproot views branches as arrays.\n",
    "\n",
    "Here is an \"unsplit\" file:"
   ]
  },
  {
   "cell_type": "code",
   "execution_count": 75,
   "metadata": {},
   "outputs": [],
   "source": [
    "unsplit = uproot4.open(\"data/uproot-small-evnt-tree-nosplit.root:tree\")"
   ]
  },
  {
   "cell_type": "code",
   "execution_count": 76,
   "metadata": {},
   "outputs": [
    {
     "name": "stdout",
     "output_type": "stream",
     "text": [
      "name                 | typename             | interpretation                    \n",
      "---------------------+----------------------+-----------------------------------\n",
      "evt                  | Event                | AsObjects(Model_Event)            \n"
     ]
    }
   ],
   "source": [
    "unsplit.show()"
   ]
  },
  {
   "cell_type": "markdown",
   "metadata": {},
   "source": [
    "And here is a \"split\" file:"
   ]
  },
  {
   "cell_type": "code",
   "execution_count": 77,
   "metadata": {},
   "outputs": [],
   "source": [
    "split = uproot4.open(\"data/uproot-small-evnt-tree-fullsplit.root:tree\")"
   ]
  },
  {
   "cell_type": "code",
   "execution_count": 78,
   "metadata": {},
   "outputs": [
    {
     "name": "stdout",
     "output_type": "stream",
     "text": [
      "name                 | typename             | interpretation                    \n",
      "---------------------+----------------------+-----------------------------------\n",
      "evt                  | Event                | AsObjects(Model_Event)            \n",
      "evt/Beg              | TString              | AsStrings()                       \n",
      "evt/I16              | int16_t              | AsDtype('>i2')                    \n",
      "evt/I32              | int32_t              | AsDtype('>i4')                    \n",
      "evt/I64              | int64_t              | AsDtype('>i8')                    \n",
      "evt/U16              | uint16_t             | AsDtype('>u2')                    \n",
      "evt/U32              | uint32_t             | AsDtype('>u4')                    \n",
      "evt/U64              | uint64_t             | AsDtype('>u8')                    \n",
      "evt/F32              | float                | AsDtype('>f4')                    \n",
      "evt/F64              | double               | AsDtype('>f8')                    \n",
      "evt/Str              | TString              | AsStrings()                       \n",
      "evt/P3               | unknown              | None                              \n",
      "evt/P3/P3.Px         | int32_t              | AsDtype('>i4')                    \n",
      "evt/P3/P3.Py         | double               | AsDtype('>f8')                    \n",
      "evt/P3/P3.Pz         | int32_t              | AsDtype('>i4')                    \n",
      "evt/ArrayI16[10]     | int16_t[10]          | AsDtype(\"('>i2', (10,))\")         \n",
      "evt/ArrayI32[10]     | int32_t[10]          | AsDtype(\"('>i4', (10,))\")         \n",
      "evt/ArrayI64[10]     | int64_t[10]          | AsDtype(\"('>i8', (10,))\")         \n",
      "evt/ArrayU16[10]     | uint16_t[10]         | AsDtype(\"('>u2', (10,))\")         \n",
      "evt/ArrayU32[10]     | uint32_t[10]         | AsDtype(\"('>u4', (10,))\")         \n",
      "evt/ArrayU64[10]     | uint64_t[10]         | AsDtype(\"('>u8', (10,))\")         \n",
      "evt/ArrayF32[10]     | float[10]            | AsDtype(\"('>f4', (10,))\")         \n",
      "evt/ArrayF64[10]     | double[10]           | AsDtype(\"('>f8', (10,))\")         \n",
      "evt/N                | uint32_t             | AsDtype('>u4')                    \n",
      "evt/SliceI16         | int16_t*             | AsJagged(AsDtype('>i2'), header_by\n",
      "evt/SliceI32         | int32_t*             | AsJagged(AsDtype('>i4'), header_by\n",
      "evt/SliceI64         | int64_t*             | AsJagged(AsDtype('>i8'), header_by\n",
      "evt/SliceU16         | uint16_t*            | AsJagged(AsDtype('>u2'), header_by\n",
      "evt/SliceU32         | uint32_t*            | AsJagged(AsDtype('>u4'), header_by\n",
      "evt/SliceU64         | uint64_t*            | AsJagged(AsDtype('>u8'), header_by\n",
      "evt/SliceF32         | float*               | AsJagged(AsDtype('>f4'), header_by\n",
      "evt/SliceF64         | double*              | AsJagged(AsDtype('>f8'), header_by\n",
      "evt/StdStr           | std::string          | AsStrings(header_bytes=6)         \n",
      "evt/StlVecI16        | std::vector<int16_t> | AsJagged(AsDtype('>i2'), header_by\n",
      "evt/StlVecI32        | std::vector<int32_t> | AsJagged(AsDtype('>i4'), header_by\n",
      "evt/StlVecI64        | std::vector<int64_t> | AsJagged(AsDtype('>i8'), header_by\n",
      "evt/StlVecU16        | std::vector<uint16_t | AsJagged(AsDtype('>u2'), header_by\n",
      "evt/StlVecU32        | std::vector<uint32_t | AsJagged(AsDtype('>u4'), header_by\n",
      "evt/StlVecU64        | std::vector<uint64_t | AsJagged(AsDtype('>u8'), header_by\n",
      "evt/StlVecF32        | std::vector<float>   | AsJagged(AsDtype('>f4'), header_by\n",
      "evt/StlVecF64        | std::vector<double>  | AsJagged(AsDtype('>f8'), header_by\n",
      "evt/StlVecStr        | std::vector<std::str | AsObjects(AsVector(True, AsString(\n",
      "evt/End              | TString              | AsStrings()                       \n"
     ]
    }
   ],
   "source": [
    "split.show()"
   ]
  },
  {
   "cell_type": "markdown",
   "metadata": {},
   "source": [
    "It's the same data, and they look the same in ROOT. But since a branch is a unit of what can be read into an array, we have to read whole objects or nothing."
   ]
  },
  {
   "cell_type": "code",
   "execution_count": 79,
   "metadata": {},
   "outputs": [
    {
     "data": {
      "text/plain": [
       "<Array [{ArrayF32: [0, 0, ... U64: 99}] type='100 * Event[\"ArrayF32\": 10 * float...'>"
      ]
     },
     "execution_count": 79,
     "metadata": {},
     "output_type": "execute_result"
    }
   ],
   "source": [
    "unsplit[\"evt\"].array()"
   ]
  },
  {
   "cell_type": "markdown",
   "metadata": {},
   "source": [
    "But with the split file, we can choose which parts to read."
   ]
  },
  {
   "cell_type": "code",
   "execution_count": 80,
   "metadata": {},
   "outputs": [
    {
     "data": {
      "text/plain": [
       "<Array [{P3.Px: -1, P3.Py: 0, ... P3.Pz: 98}] type='100 * {\"P3.Px\": int32, \"P3.P...'>"
      ]
     },
     "execution_count": 80,
     "metadata": {},
     "output_type": "execute_result"
    }
   ],
   "source": [
    "split.arrays([\"P3.Px\", \"P3.Py\", \"P3.Pz\"])"
   ]
  },
  {
   "cell_type": "markdown",
   "metadata": {},
   "source": [
    "If there are any types in an unsplit object that Uproot can't deserialize, Uproot won't be able to read _any_ of its data.\n",
    "\n",
    "If there are any types in a split object that Uproot can't deserialize, Uproot will be able to read everything else.\n",
    "\n",
    "Also, split objects are usually faster to read, even if you read everything.\n",
    "\n",
    "**Split your data whenever possible!**"
   ]
  },
  {
   "cell_type": "markdown",
   "metadata": {},
   "source": [
    "# Awkward Arrays\n",
    "\n",
    "Why do we need our own array library? It's a long story, but if you're interested, I presented it to non-physicists here:\n",
    "\n",
    "<a href=\"https://youtu.be/WlnUF3LRBj4\"><img src=\"img/my-video.png\"></a>"
   ]
  },
  {
   "cell_type": "markdown",
   "metadata": {},
   "source": [
    "Let's take another look at the muon data."
   ]
  },
  {
   "cell_type": "code",
   "execution_count": 81,
   "metadata": {},
   "outputs": [
    {
     "name": "stdout",
     "output_type": "stream",
     "text": [
      "name                 | typename             | interpretation                    \n",
      "---------------------+----------------------+-----------------------------------\n",
      "run                  | int32_t              | AsDtype('>i4')                    \n",
      "luminosityBlock      | uint32_t             | AsDtype('>u4')                    \n",
      "event                | uint64_t             | AsDtype('>u8')                    \n",
      "PV_npvs              | int32_t              | AsDtype('>i4')                    \n",
      "PV_x                 | float                | AsDtype('>f4')                    \n",
      "PV_y                 | float                | AsDtype('>f4')                    \n",
      "PV_z                 | float                | AsDtype('>f4')                    \n",
      "nMuon                | uint32_t             | AsDtype('>u4')                    \n",
      "Muon_pt              | float[]              | AsJagged(AsDtype('>f4'))          \n",
      "Muon_eta             | float[]              | AsJagged(AsDtype('>f4'))          \n",
      "Muon_phi             | float[]              | AsJagged(AsDtype('>f4'))          \n",
      "Muon_mass            | float[]              | AsJagged(AsDtype('>f4'))          \n",
      "Muon_charge          | int32_t[]            | AsJagged(AsDtype('>i4'))          \n",
      "Muon_pfRelIso04_all  | float[]              | AsJagged(AsDtype('>f4'))          \n",
      "Muon_tightId         | bool[]               | AsJagged(AsDtype('bool'))         \n"
     ]
    }
   ],
   "source": [
    "tree = uproot4.open(\"data/opendata_muons.root:Events\")\n",
    "tree.show()"
   ]
  },
  {
   "cell_type": "markdown",
   "metadata": {},
   "source": [
    "We've already seen that it's \"awkward\" to deal with the jagged arrays in NumPy. However, they look and feel like records if \"zipped\" into an Awkward array."
   ]
  },
  {
   "cell_type": "code",
   "execution_count": 82,
   "metadata": {},
   "outputs": [
    {
     "data": {
      "text/plain": [
       "<Array [{run: 194778, ... ] type='1000000 * {\"run\": int32, \"luminosityBlock\": ui...'>"
      ]
     },
     "execution_count": 82,
     "metadata": {},
     "output_type": "execute_result"
    }
   ],
   "source": [
    "events = tree.arrays(library=\"ak\", how=\"zip\")\n",
    "events"
   ]
  },
  {
   "cell_type": "markdown",
   "metadata": {},
   "source": [
    "The data type encapsulates the structure of the events."
   ]
  },
  {
   "cell_type": "code",
   "execution_count": 83,
   "metadata": {},
   "outputs": [
    {
     "data": {
      "text/plain": [
       "1000000 * {\"run\": int32, \"luminosityBlock\": uint32, \"event\": uint64, \"PV_npvs\": int32, \"PV_x\": float32, \"PV_y\": float32, \"PV_z\": float32, \"nMuon\": uint32, \"Muon\": var * {\"pt\": float32, \"eta\": float32, \"phi\": float32, \"mass\": float32, \"charge\": int32, \"pfRelIso04_all\": float32, \"tightId\": bool}}"
      ]
     },
     "execution_count": 83,
     "metadata": {},
     "output_type": "execute_result"
    }
   ],
   "source": [
    "ak.type(events)"
   ]
  },
  {
   "cell_type": "markdown",
   "metadata": {},
   "source": [
    "`1000000 *` means that there are a million events, `\"Muon\": var *` means that the contents of the `\"Muon\"` field are jagged: there's a variable number of them per event.\n",
    "\n",
    "We could look at a few of these as Python lists and dicts."
   ]
  },
  {
   "cell_type": "code",
   "execution_count": 84,
   "metadata": {},
   "outputs": [
    {
     "data": {
      "text/plain": [
       "[{'run': 194778,\n",
       "  'luminosityBlock': 51,\n",
       "  'event': 12887941,\n",
       "  'PV_npvs': 1,\n",
       "  'PV_x': 0.07224589586257935,\n",
       "  'PV_y': 0.06209353357553482,\n",
       "  'PV_z': -0.02809920161962509,\n",
       "  'nMuon': 2,\n",
       "  'Muon': [{'pt': 52.00833511352539,\n",
       "    'eta': 1.2523202896118164,\n",
       "    'phi': 0.8424168229103088,\n",
       "    'mass': 0.10565836727619171,\n",
       "    'charge': 1,\n",
       "    'pfRelIso04_all': -999.0,\n",
       "    'tightId': False},\n",
       "   {'pt': 42.85704040527344,\n",
       "    'eta': 1.6531223058700562,\n",
       "    'phi': -2.154824733734131,\n",
       "    'mass': 0.10565836727619171,\n",
       "    'charge': -1,\n",
       "    'pfRelIso04_all': -999.0,\n",
       "    'tightId': False}]},\n",
       " {'run': 194778,\n",
       "  'luminosityBlock': 51,\n",
       "  'event': 12963969,\n",
       "  'PV_npvs': 1,\n",
       "  'PV_x': 0.07224589586257935,\n",
       "  'PV_y': 0.06209353357553482,\n",
       "  'PV_z': -0.02809920161962509,\n",
       "  'nMuon': 1,\n",
       "  'Muon': [{'pt': 5.019948482513428,\n",
       "    'eta': 2.1219534873962402,\n",
       "    'phi': 1.7212640047073364,\n",
       "    'mass': 0.10565836727619171,\n",
       "    'charge': 1,\n",
       "    'pfRelIso04_all': -999.0,\n",
       "    'tightId': False}]},\n",
       " {'run': 194778,\n",
       "  'luminosityBlock': 51,\n",
       "  'event': 13227276,\n",
       "  'PV_npvs': 1,\n",
       "  'PV_x': 0.07224589586257935,\n",
       "  'PV_y': 0.06209353357553482,\n",
       "  'PV_z': -0.02809920161962509,\n",
       "  'nMuon': 2,\n",
       "  'Muon': [{'pt': 15.967432022094727,\n",
       "    'eta': -1.241450548171997,\n",
       "    'phi': -2.8183231353759766,\n",
       "    'mass': 0.10565836727619171,\n",
       "    'charge': -1,\n",
       "    'pfRelIso04_all': -999.0,\n",
       "    'tightId': False},\n",
       "   {'pt': 12.481289863586426,\n",
       "    'eta': -0.7956085205078125,\n",
       "    'phi': -1.5160582065582275,\n",
       "    'mass': 0.10565836727619171,\n",
       "    'charge': 1,\n",
       "    'pfRelIso04_all': -999.0,\n",
       "    'tightId': False}]}]"
      ]
     },
     "execution_count": 84,
     "metadata": {},
     "output_type": "execute_result"
    }
   ],
   "source": [
    "ak.to_list(events[:3])"
   ]
  },
  {
   "cell_type": "markdown",
   "metadata": {},
   "source": [
    "But the data are not actually arranged as objects in memory; each field (`\"pt\"`, `\"eta\"`, `\"phi\"`, etc.) is in an array by itself.\n",
    "\n",
    "This means that structure-changing things like pulling out the kinematics are not expensive computations. (That is, they do not scale with the size of the dataset.)\n",
    "\n",
    "You can project out and remix them without penalty."
   ]
  },
  {
   "cell_type": "code",
   "execution_count": 85,
   "metadata": {},
   "outputs": [
    {
     "data": {
      "text/plain": [
       "<Array [[{pt: 52, eta: 1.25, ... phi: -3.01}]] type='1000000 * var * {\"pt\": floa...'>"
      ]
     },
     "execution_count": 85,
     "metadata": {},
     "output_type": "execute_result"
    }
   ],
   "source": [
    "events[\"Muon\", [\"pt\", \"eta\", \"phi\"]]"
   ]
  },
  {
   "cell_type": "code",
   "execution_count": 86,
   "metadata": {},
   "outputs": [
    {
     "data": {
      "text/plain": [
       "1000000 * var * {\"pt\": float32, \"eta\": float32, \"phi\": float32}"
      ]
     },
     "execution_count": 86,
     "metadata": {},
     "output_type": "execute_result"
    }
   ],
   "source": [
    "ak.type(events[\"Muon\", [\"pt\", \"eta\", \"phi\"]])"
   ]
  },
  {
   "cell_type": "code",
   "execution_count": 87,
   "metadata": {},
   "outputs": [],
   "source": [
    "events[\"Muon\", \"pz\"] = events[\"Muon\", \"pt\"] * np.sinh(events[\"Muon\", \"eta\"])"
   ]
  },
  {
   "cell_type": "code",
   "execution_count": 88,
   "metadata": {},
   "outputs": [
    {
     "data": {
      "text/plain": [
       "1000000 * var * {\"pt\": float32, \"eta\": float32, \"phi\": float32, \"mass\": float32, \"charge\": int32, \"pfRelIso04_all\": float32, \"tightId\": bool, \"pz\": float32}"
      ]
     },
     "execution_count": 88,
     "metadata": {},
     "output_type": "execute_result"
    }
   ],
   "source": [
    "ak.type(events.Muon)"
   ]
  },
  {
   "cell_type": "code",
   "execution_count": 89,
   "metadata": {},
   "outputs": [
    {
     "data": {
      "text/plain": [
       "<Array [[83.5, 108], ... [71.7, 19.1]] type='1000000 * var * float32'>"
      ]
     },
     "execution_count": 89,
     "metadata": {},
     "output_type": "execute_result"
    }
   ],
   "source": [
    "events.Muon.pz"
   ]
  },
  {
   "cell_type": "markdown",
   "metadata": {},
   "source": [
    "Since nearly all of you are familiar with NumPy, slicing arrays with boolean arrays is probably familiar to you.\n",
    "\n",
    "What's new is that the boolean arrays can now be jagged to slice jagged arrays (i.e. cut particles)."
   ]
  },
  {
   "cell_type": "code",
   "execution_count": 90,
   "metadata": {},
   "outputs": [
    {
     "data": {
      "text/plain": [
       "<Array [[True, True], ... [False, False]] type='1000000 * var * bool'>"
      ]
     },
     "execution_count": 90,
     "metadata": {},
     "output_type": "execute_result"
    }
   ],
   "source": [
    "events.Muon.pt > 20"
   ]
  },
  {
   "cell_type": "code",
   "execution_count": 91,
   "metadata": {},
   "outputs": [
    {
     "data": {
      "text/plain": [
       "<Array [[{pt: 52, eta: 1.25, ... [], []] type='1000000 * var * {\"pt\": float32, \"...'>"
      ]
     },
     "execution_count": 91,
     "metadata": {},
     "output_type": "execute_result"
    }
   ],
   "source": [
    "events.Muon[events.Muon.pt > 20]"
   ]
  },
  {
   "cell_type": "markdown",
   "metadata": {},
   "source": [
    "To cut events, make the jagged array of booleans a one-dimensional array of booleans. You can do this with a reducer (such as [ak.sum](https://awkward-array.readthedocs.io/en/latest/_auto/ak.sum.html) or [ak.max](https://awkward-array.readthedocs.io/en/latest/_auto/ak.max.html), but most likely [ak.any](https://awkward-array.readthedocs.io/en/latest/_auto/ak.any.html) and [ak.all](https://awkward-array.readthedocs.io/en/latest/_auto/ak.all.html) for booleans)."
   ]
  },
  {
   "cell_type": "code",
   "execution_count": 92,
   "metadata": {},
   "outputs": [
    {
     "data": {
      "text/plain": [
       "<Array [True, False, False, ... False, False] type='1000000 * bool'>"
      ]
     },
     "execution_count": 92,
     "metadata": {},
     "output_type": "execute_result"
    }
   ],
   "source": [
    "ak.any(events.Muon.pt > 20, axis=1)"
   ]
  },
  {
   "cell_type": "code",
   "execution_count": 93,
   "metadata": {},
   "outputs": [
    {
     "data": {
      "text/plain": [
       "<Array [[{pt: 52, eta: 1.25, ... pz: -5.76}]] type='384536 * var * {\"pt\": float3...'>"
      ]
     },
     "execution_count": 93,
     "metadata": {},
     "output_type": "execute_result"
    }
   ],
   "source": [
    "events.Muon[ak.any(events.Muon.pt > 20, axis=1)]"
   ]
  },
  {
   "cell_type": "markdown",
   "metadata": {},
   "source": [
    "# Awkward analysis\n",
    "\n",
    "Several new operations are needed when arrays can have arbitrary data structures, so the Awkward Array library is best seen as a collection of functions acting on [ak.Array](https://awkward-array.readthedocs.io/en/latest/_auto/ak.Array.html) (the array type).\n",
    "\n",
    "Probably the most important of these is [ak.num](https://awkward-array.readthedocs.io/en/latest/_auto/ak.num.html), which tells us the number of elements in each nested list."
   ]
  },
  {
   "cell_type": "code",
   "execution_count": 94,
   "metadata": {},
   "outputs": [
    {
     "data": {
      "text/plain": [
       "<Array [2, 1, 2, 2, 2, 2, ... 4, 2, 2, 2, 2, 2] type='1000000 * int64'>"
      ]
     },
     "execution_count": 94,
     "metadata": {},
     "output_type": "execute_result"
    }
   ],
   "source": [
    "ak.num(events.Muon)"
   ]
  },
  {
   "cell_type": "markdown",
   "metadata": {},
   "source": [
    "That's how many muons there are in each event.\n",
    "\n",
    "This becomes necessary if we ever try to select the first (and second, etc.) element in each event. Some events might not have any."
   ]
  },
  {
   "cell_type": "code",
   "execution_count": 95,
   "metadata": {
    "tags": [
     "raises-exception"
    ]
   },
   "outputs": [
    {
     "ename": "ValueError",
     "evalue": "in ListArray64 attempting to get 0, index out of range",
     "output_type": "error",
     "traceback": [
      "\u001b[0;31m---------------------------------------------------------------------------\u001b[0m",
      "\u001b[0;31mValueError\u001b[0m                                Traceback (most recent call last)",
      "\u001b[0;32m<ipython-input-95-74aedcb9e3df>\u001b[0m in \u001b[0;36m<module>\u001b[0;34m\u001b[0m\n\u001b[0;32m----> 1\u001b[0;31m \u001b[0mevents\u001b[0m\u001b[0;34m.\u001b[0m\u001b[0mMuon\u001b[0m\u001b[0;34m[\u001b[0m\u001b[0;34m:\u001b[0m\u001b[0;34m,\u001b[0m \u001b[0;36m0\u001b[0m\u001b[0;34m]\u001b[0m\u001b[0;34m\u001b[0m\u001b[0;34m\u001b[0m\u001b[0m\n\u001b[0m",
      "\u001b[0;32m~/miniconda3/lib/python3.7/site-packages/awkward1/highlevel.py\u001b[0m in \u001b[0;36m__getitem__\u001b[0;34m(self, where)\u001b[0m\n\u001b[1;32m    855\u001b[0m         \u001b[0mhave\u001b[0m \u001b[0mthe\u001b[0m \u001b[0msame\u001b[0m \u001b[0mdimension\u001b[0m \u001b[0;32mas\u001b[0m \u001b[0mthe\u001b[0m \u001b[0marray\u001b[0m \u001b[0mbeing\u001b[0m \u001b[0mindexed\u001b[0m\u001b[0;34m.\u001b[0m\u001b[0;34m\u001b[0m\u001b[0;34m\u001b[0m\u001b[0m\n\u001b[1;32m    856\u001b[0m         \"\"\"\n\u001b[0;32m--> 857\u001b[0;31m         \u001b[0;32mreturn\u001b[0m \u001b[0mawkward1\u001b[0m\u001b[0;34m.\u001b[0m\u001b[0m_util\u001b[0m\u001b[0;34m.\u001b[0m\u001b[0mwrap\u001b[0m\u001b[0;34m(\u001b[0m\u001b[0mself\u001b[0m\u001b[0;34m.\u001b[0m\u001b[0m_layout\u001b[0m\u001b[0;34m[\u001b[0m\u001b[0mwhere\u001b[0m\u001b[0;34m]\u001b[0m\u001b[0;34m,\u001b[0m \u001b[0mself\u001b[0m\u001b[0;34m.\u001b[0m\u001b[0m_behavior\u001b[0m\u001b[0;34m)\u001b[0m\u001b[0;34m\u001b[0m\u001b[0;34m\u001b[0m\u001b[0m\n\u001b[0m\u001b[1;32m    858\u001b[0m \u001b[0;34m\u001b[0m\u001b[0m\n\u001b[1;32m    859\u001b[0m     \u001b[0;32mdef\u001b[0m \u001b[0m__setitem__\u001b[0m\u001b[0;34m(\u001b[0m\u001b[0mself\u001b[0m\u001b[0;34m,\u001b[0m \u001b[0mwhere\u001b[0m\u001b[0;34m,\u001b[0m \u001b[0mwhat\u001b[0m\u001b[0;34m)\u001b[0m\u001b[0;34m:\u001b[0m\u001b[0;34m\u001b[0m\u001b[0;34m\u001b[0m\u001b[0m\n",
      "\u001b[0;31mValueError\u001b[0m: in ListArray64 attempting to get 0, index out of range"
     ]
    }
   ],
   "source": [
    "events.Muon[:, 0]"
   ]
  },
  {
   "cell_type": "markdown",
   "metadata": {},
   "source": [
    "So we use [ak.num](https://awkward-array.readthedocs.io/en/latest/_auto/ak.num.html) to slice the first dimension."
   ]
  },
  {
   "cell_type": "code",
   "execution_count": 96,
   "metadata": {},
   "outputs": [
    {
     "data": {
      "text/plain": [
       "<Array [{pt: 52, eta: 1.25, ... pz: 71.7}] type='969031 * {\"pt\": float32, \"eta\":...'>"
      ]
     },
     "execution_count": 96,
     "metadata": {},
     "output_type": "execute_result"
    }
   ],
   "source": [
    "events.Muon[ak.num(events.Muon) > 0, 0]"
   ]
  },
  {
   "cell_type": "markdown",
   "metadata": {},
   "source": [
    "## Masking vs cutting\n",
    "\n",
    "In the nearly two years that physicists have been doing analyses with Awkward Arrays, they've found that cuts are difficult to accumulate. If the first cut changes the length of the array from 1000000 to 969031, boolean arrays that could be applied to the first array can't be applied to the second array.\n",
    "\n",
    "In practice, they've taken a logical-and of all cuts and apply them at the end, but we can do better: we can mask, rather than cut."
   ]
  },
  {
   "cell_type": "code",
   "execution_count": 97,
   "metadata": {},
   "outputs": [
    {
     "data": {
      "text/plain": [
       "<Array [[{pt: 52, eta: 1.25, ... [None, None]] type='1000000 * var * ?{\"pt\": flo...'>"
      ]
     },
     "execution_count": 97,
     "metadata": {},
     "output_type": "execute_result"
    }
   ],
   "source": [
    "events.Muon.mask[events.Muon.pt > 20]"
   ]
  },
  {
   "cell_type": "markdown",
   "metadata": {},
   "source": [
    "One of the new types that Awkward Array introduces is the \"option type,\" which allows some values to be `None`. (It's a `?` in the type specification.)"
   ]
  },
  {
   "cell_type": "markdown",
   "metadata": {},
   "source": [
    "## Making regular arrays\n",
    "\n",
    "If you're feeding your data into a machine learning pipeline, you might need the jaggedness to go away. There are functions for padding jagged arrays (with `None`) so that they reach a desired length (and replacing `None` with a preferred value): [ak.pad_none](https://awkward-array.readthedocs.io/en/latest/_auto/ak.pad_none.html) (and [ak.fill_none](https://awkward-array.readthedocs.io/en/latest/_auto/ak.fill_none.html))."
   ]
  },
  {
   "cell_type": "code",
   "execution_count": 98,
   "metadata": {},
   "outputs": [
    {
     "data": {
      "text/plain": [
       "<Array [[52, 42.9, None, ... 18.3, 9.72, None]] type='1000000 * 3 * ?float32'>"
      ]
     },
     "execution_count": 98,
     "metadata": {},
     "output_type": "execute_result"
    }
   ],
   "source": [
    "ak.pad_none(events.Muon.pt, 3, clip=True)"
   ]
  },
  {
   "cell_type": "code",
   "execution_count": 99,
   "metadata": {},
   "outputs": [
    {
     "data": {
      "text/plain": [
       "<Array [[52, 42.9, 0], ... [18.3, 9.72, 0]] type='1000000 * 3 * float64'>"
      ]
     },
     "execution_count": 99,
     "metadata": {},
     "output_type": "execute_result"
    }
   ],
   "source": [
    "ak.fill_none(ak.pad_none(events.Muon.pt, 3, clip=True), 0)"
   ]
  },
  {
   "cell_type": "markdown",
   "metadata": {},
   "source": [
    "When you're plotting something, you usually want to flatten the jaggedness."
   ]
  },
  {
   "cell_type": "code",
   "execution_count": 100,
   "metadata": {},
   "outputs": [
    {
     "data": {
      "image/png": "[encoded data removed]",
      "text/plain": [
       "<Figure size 432x288 with 1 Axes>"
      ]
     },
     "metadata": {
      "needs_background": "light"
     },
     "output_type": "display_data"
    }
   ],
   "source": [
    "plt.hist(ak.flatten(events.Muon.pt), bins=120, range=(0, 60));"
   ]
  },
  {
   "cell_type": "markdown",
   "metadata": {},
   "source": [
    "## Awkward combinatorics\n",
    "\n",
    "We often want to find pairs of particles with some invariant mass. To do that, we need combinatoric functions like [ak.cartesian](https://awkward-array.readthedocs.io/en/latest/_auto/ak.cartesian.html) and [ak.combinations](https://awkward-array.readthedocs.io/en/latest/_auto/ak.combinations.html).\n",
    "\n",
    "<table style=\"margin-left: 0px\">\n",
    "    <tr style=\"background: white\"><td style=\"font-size: 1.75em; font-weight: bold; text-align: center\">Cartesian product (per event)</td><td style=\"font-size: 1.75em; font-weight: bold; text-align: center\">n-choose-k combinations (per event)</td></tr>\n",
    "    <tr style=\"background: white\"><td><img src=\"img/cartoon-cartesian.png\"></td><td><img src=\"img/cartoon-combinations.png\"></td></tr>\n",
    "</table>"
   ]
  },
  {
   "cell_type": "code",
   "execution_count": 101,
   "metadata": {},
   "outputs": [
    {
     "data": {
      "text/plain": [
       "<Array [[({pt: 52, eta: 1.25, ... pz: 19.1})]] type='1000000 * var * ({\"pt\": flo...'>"
      ]
     },
     "execution_count": 101,
     "metadata": {},
     "output_type": "execute_result"
    }
   ],
   "source": [
    "muon_pairs = ak.combinations(events.Muon, 2)\n",
    "muon_pairs"
   ]
  },
  {
   "cell_type": "code",
   "execution_count": 102,
   "metadata": {},
   "outputs": [
    {
     "data": {
      "text/plain": [
       "(<Array [[{pt: 52, eta: 1.25, ... pz: 71.7}]] type='1000000 * var * {\"pt\": float3...'>,\n",
       " <Array [[{pt: 42.9, eta: 1.65, ... pz: 19.1}]] type='1000000 * var * {\"pt\": floa...'>)"
      ]
     },
     "execution_count": 102,
     "metadata": {},
     "output_type": "execute_result"
    }
   ],
   "source": [
    "m1, m2 = ak.unzip(muon_pairs)\n",
    "m1, m2"
   ]
  },
  {
   "cell_type": "code",
   "execution_count": 103,
   "metadata": {},
   "outputs": [
    {
     "data": {
      "text/plain": [
       "<Array [[96.1], [], [18.3, ... [17.9], [14.6]] type='1000000 * var * float32'>"
      ]
     },
     "execution_count": 103,
     "metadata": {},
     "output_type": "execute_result"
    }
   ],
   "source": [
    "masses = np.sqrt(2*m1.pt*m2.pt*(np.cosh(m1.eta - m2.eta) - np.cos(m1.phi - m2.phi)))\n",
    "masses"
   ]
  },
  {
   "cell_type": "code",
   "execution_count": 104,
   "metadata": {},
   "outputs": [
    {
     "data": {
      "image/png": "[encoded data removed]",
      "text/plain": [
       "<Figure size 432x288 with 1 Axes>"
      ]
     },
     "metadata": {
      "needs_background": "light"
     },
     "output_type": "display_data"
    }
   ],
   "source": [
    "plt.hist(ak.flatten(masses), bins=80, range=(70, 110));"
   ]
  },
  {
   "cell_type": "code",
   "execution_count": 105,
   "metadata": {},
   "outputs": [
    {
     "data": {
      "image/png": "[encoded data removed]",
      "text/plain": [
       "<Figure size 432x288 with 1 Axes>"
      ]
     },
     "metadata": {
      "needs_background": "light"
     },
     "output_type": "display_data"
    }
   ],
   "source": [
    "plt.hist(ak.flatten(masses), bins=240, range=(0, 12))\n",
    "plt.yscale(\"log\")"
   ]
  },
  {
   "cell_type": "markdown",
   "metadata": {},
   "source": [
    "# Numba\n",
    "\n",
    "The most important Python library that most of you aren't aware of is Numba:\n",
    "\n",
    "<a href=\"https://numba.pydata.org/\"><img src=\"img/numba.png\"></a>"
   ]
  },
  {
   "cell_type": "markdown",
   "metadata": {},
   "source": [
    "The NumPy-like expressions for combinatorics look weird. It's fine for simple things when you get the hang of it, but really complex or performance-critical array expressions can be hard to write.\n",
    "\n",
    "Numba lets you write Python for loops, but then it compiles them as though they were C functions.\n",
    "\n",
    "Only a subset of Python and NumPy are accepted by its compiler, but Awkward Arrays are included."
   ]
  },
  {
   "cell_type": "code",
   "execution_count": 106,
   "metadata": {},
   "outputs": [],
   "source": [
    "import numba as nb"
   ]
  },
  {
   "cell_type": "code",
   "execution_count": 107,
   "metadata": {},
   "outputs": [],
   "source": [
    "@nb.jit\n",
    "def find_energetic_muon(events):\n",
    "    for event in events:\n",
    "        for muon in event.Muon:\n",
    "            if muon.pt > 100000:\n",
    "                return muon\n",
    "    return None"
   ]
  },
  {
   "cell_type": "code",
   "execution_count": 108,
   "metadata": {},
   "outputs": [
    {
     "data": {
      "text/plain": [
       "{'pt': 124582.25,\n",
       " 'eta': 1.2202473878860474,\n",
       " 'phi': 1.9215593338012695,\n",
       " 'mass': 0.1056494414806366,\n",
       " 'charge': 1,\n",
       " 'pfRelIso04_all': -999.0,\n",
       " 'tightId': False,\n",
       " 'pz': 192658.265625}"
      ]
     },
     "execution_count": 108,
     "metadata": {},
     "output_type": "execute_result"
    }
   ],
   "source": [
    "find_energetic_muon(events).tolist()"
   ]
  },
  {
   "cell_type": "markdown",
   "metadata": {},
   "source": [
    "Or better yet,"
   ]
  },
  {
   "cell_type": "code",
   "execution_count": 109,
   "metadata": {},
   "outputs": [],
   "source": [
    "@nb.jit\n",
    "def find_energetic_muons_event(events):\n",
    "    for i in range(len(events)):\n",
    "        for muon in events[i].Muon:\n",
    "            if muon.pt > 100000:\n",
    "                return i\n",
    "    return -1"
   ]
  },
  {
   "cell_type": "code",
   "execution_count": 110,
   "metadata": {},
   "outputs": [
    {
     "data": {
      "text/plain": [
       "7400"
      ]
     },
     "execution_count": 110,
     "metadata": {},
     "output_type": "execute_result"
    }
   ],
   "source": [
    "find_energetic_muons_event(events)"
   ]
  },
  {
   "cell_type": "code",
   "execution_count": 111,
   "metadata": {},
   "outputs": [
    {
     "data": {
      "text/plain": [
       "{'run': 194120,\n",
       " 'luminosityBlock': 267,\n",
       " 'event': 200402745,\n",
       " 'PV_npvs': 6,\n",
       " 'PV_x': 0.07382062822580338,\n",
       " 'PV_y': 0.06162504851818085,\n",
       " 'PV_z': 2.451892137527466,\n",
       " 'nMuon': 4,\n",
       " 'Muon': [{'pt': 23.145275115966797,\n",
       "   'eta': -1.4625529050827026,\n",
       "   'phi': -0.7058165669441223,\n",
       "   'mass': 0.10565836727619171,\n",
       "   'charge': 1,\n",
       "   'pfRelIso04_all': 2.859344959259033,\n",
       "   'tightId': True,\n",
       "   'pz': -47.2779541015625},\n",
       "  {'pt': 37.34275436401367,\n",
       "   'eta': 1.2313216924667358,\n",
       "   'phi': 1.9259896278381348,\n",
       "   'mass': 0.10565836727619171,\n",
       "   'charge': -1,\n",
       "   'pfRelIso04_all': 1.151142954826355,\n",
       "   'tightId': True,\n",
       "   'pz': 58.51325225830078},\n",
       "  {'pt': 12.710587501525879,\n",
       "   'eta': -1.3235374689102173,\n",
       "   'phi': -0.615562379360199,\n",
       "   'mass': 0.10565836727619171,\n",
       "   'charge': 1,\n",
       "   'pfRelIso04_all': -999.0,\n",
       "   'tightId': False,\n",
       "   'pz': -22.183122634887695},\n",
       "  {'pt': 124582.25,\n",
       "   'eta': 1.2202473878860474,\n",
       "   'phi': 1.9215593338012695,\n",
       "   'mass': 0.1056494414806366,\n",
       "   'charge': 1,\n",
       "   'pfRelIso04_all': -999.0,\n",
       "   'tightId': False,\n",
       "   'pz': 192658.265625}]}"
      ]
     },
     "execution_count": 111,
     "metadata": {},
     "output_type": "execute_result"
    }
   ],
   "source": [
    "events[7400].tolist()"
   ]
  },
  {
   "cell_type": "markdown",
   "metadata": {},
   "source": [
    "The invariant mass calculation looks more conventional this way, though it is more verbose, too. You also need two passes to allocate an array of the right size."
   ]
  },
  {
   "cell_type": "code",
   "execution_count": 112,
   "metadata": {},
   "outputs": [],
   "source": [
    "@nb.jit\n",
    "def invariant_mass(events):\n",
    "    num_pairs = 0\n",
    "    for event in events:\n",
    "        num_pairs += max(0, len(event.Muon) * (len(event.Muon) - 1) // 2)\n",
    "    out = np.empty(num_pairs, np.float64)\n",
    "    \n",
    "    num_pairs = 0\n",
    "    for event in events:\n",
    "        for i in range(len(event.Muon)):\n",
    "            for j in range(i + 1, len(event.Muon)):\n",
    "                m1 = event.Muon[i]\n",
    "                m2 = event.Muon[j]\n",
    "                out[num_pairs] = np.sqrt(2*m1.pt*m2.pt*(np.cosh(m1.eta - m2.eta) - np.cos(m1.phi - m2.phi)))\n",
    "                num_pairs += 1\n",
    "    \n",
    "    return out"
   ]
  },
  {
   "cell_type": "code",
   "execution_count": 113,
   "metadata": {},
   "outputs": [],
   "source": [
    "masses = invariant_mass(events)"
   ]
  },
  {
   "cell_type": "code",
   "execution_count": 114,
   "metadata": {},
   "outputs": [
    {
     "data": {
      "image/png": "[encoded data removed]",
      "text/plain": [
       "<Figure size 432x288 with 1 Axes>"
      ]
     },
     "metadata": {
      "needs_background": "light"
     },
     "output_type": "display_data"
    }
   ],
   "source": [
    "plt.hist(masses, bins=80, range=(70, 110));"
   ]
  },
  {
   "cell_type": "code",
   "execution_count": 115,
   "metadata": {},
   "outputs": [
    {
     "data": {
      "image/png": "[encoded data removed]",
      "text/plain": [
       "<Figure size 432x288 with 1 Axes>"
      ]
     },
     "metadata": {
      "needs_background": "light"
     },
     "output_type": "display_data"
    }
   ],
   "source": [
    "plt.hist(masses, bins=240, range=(0, 12))\n",
    "plt.yscale(\"log\")"
   ]
  },
  {
   "cell_type": "markdown",
   "metadata": {},
   "source": [
    "The important point is that _you don't have to choose_ between Awkward combinatorics and Numba. You can pass the same data structures through `ak.this` and `ak.that` functions as you can pass into Numba-compiled functions.\n",
    "\n",
    "   * Awkward's array-at-a-time functions are best for interactive exploration. It can be hard to express deeply nested loops with [ak.cartesian](https://awkward-array.readthedocs.io/en/latest/_auto/ak.cartesian.html) and [ak.combinations](https://awkward-array.readthedocs.io/en/latest/_auto/ak.combinations.html).\n",
    "   * Numba's just-in-time compilation is best for tricky algorithms and high performance. It can be hard to satisfy Numba's type constraints and stay within the supported [Python subset](https://numba.pydata.org/numba-doc/dev/reference/pysupported.html) and [NumPy subset](https://numba.pydata.org/numba-doc/dev/reference/numpysupported.html).\n",
    "\n",
    "Use them both in your data analysis! Use Numba to make indexes to slice Awkward arrays; use Awkward to prepare structures for Numba.\n",
    "\n",
    "(I haven't even mentioned the fact that Awkward Arrays are [accessible from C++](https://github.com/scikit-hep/awkward-1.0/tree/master/dependent-project) and will [soon run on GPUs](https://github.com/scikit-hep/awkward-1.0/projects/1).)"
   ]
  }
 ],
 "metadata": {
  "kernelspec": {
   "display_name": "Python 3",
   "language": "python",
   "name": "python3"
  },
  "language_info": {
   "codemirror_mode": {
    "name": "ipython",
    "version": 3
   },
   "file_extension": ".py",
   "mimetype": "text/x-python",
   "name": "python",
   "nbconvert_exporter": "python",
   "pygments_lexer": "ipython3",
   "version": "3.7.6"
  }
 },
 "nbformat": 4,
 "nbformat_minor": 4
}
