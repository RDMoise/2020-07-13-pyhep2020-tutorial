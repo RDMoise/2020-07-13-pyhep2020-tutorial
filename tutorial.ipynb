{
 "cells": [
  {
   "cell_type": "markdown",
   "metadata": {},
   "source": [
    "# Welcome to PyHEP 2020!\n",
    "\n",
    "<br><br><br>\n",
    "\n",
    "Before writing this tutorial, I took a look at the survey..."
   ]
  },
  {
   "cell_type": "code",
   "execution_count": null,
   "metadata": {},
   "outputs": [],
   "source": [
    "import pandas\n",
    "df = pandas.read_csv(\"survey-results.csv\")\n",
    "df"
   ]
  },
  {
   "cell_type": "code",
   "execution_count": null,
   "metadata": {},
   "outputs": [],
   "source": [
    "df[\"Professional life: What best describes your occupation?\"].value_counts(ascending=True).plot.barh();"
   ]
  },
  {
   "cell_type": "code",
   "execution_count": null,
   "metadata": {},
   "outputs": [],
   "source": [
    "df[\"Professional life: What best describes the stage of your professional career?\"].value_counts(ascending=True).plot.barh();"
   ]
  },
  {
   "cell_type": "code",
   "execution_count": null,
   "metadata": {},
   "outputs": [],
   "source": [
    "languages = [\n",
    "    \"C or C++\",\n",
    "    \"Python\",\n",
    "    \"Matlab\",\n",
    "    \"Javascript or other browser-based (e.g. TypeScript, CoffeeScript)\",\n",
    "    \"Verilog, VHDL, or other hardware description language\",\n",
    "    \"R\",\n",
    "    \"Java or other JVM-based (e.g. Kotlin, Scala, Clojure)\",\n",
    "    \"Perl\",\n",
    "    \"PHP\",\n",
    "    \"C#\",\n",
    "    \"Julia\",\n",
    "    \"Go\",\n",
    "    \"Swift\",\n",
    "    \"Rust\",\n",
    "    \"Ruby\",\n",
    "    \"Haskell\",\n",
    "    \"Raw assembly or machine code\",\n",
    "    \"Other, not listed above\",\n",
    "]\n",
    "def explode(responses):\n",
    "    responses = [response.strip() for response in responses.split(\";\")]\n",
    "    return [1.0 if language in responses else 0.0 for language in languages]\n",
    "exploded = df[[\"Computing and programming: Which of the following languages do you use regularly (i.e. more than 10% of your work)?\"]].fillna(\"\").applymap(explode)\n",
    "indicator = pandas.DataFrame(exploded.iloc[:, 0].tolist(), columns=languages)\n",
    "indicator.div(indicator.sum(axis=1), axis=0).sum(axis=0).iloc[::-1].plot.barh(figsize=(5, 7));"
   ]
  },
  {
   "cell_type": "code",
   "execution_count": null,
   "metadata": {},
   "outputs": [],
   "source": [
    "df[[\n",
    "    \"Computing and programming: Do you *expect* to use Python more or less in the future (as a fraction of your programming time)?\",\n",
    "    \"Computing and programming: Do you *want* to use Python more or less in the future (as a fraction of your programming time)?\"\n",
    "]].apply(pandas.Series.value_counts).loc[[\"Less\", \"About the same\", \"More\", \"Don't know\"]].plot.bar(rot=0).legend(bbox_to_anchor=(1.2, 0.5));"
   ]
  },
  {
   "cell_type": "code",
   "execution_count": null,
   "metadata": {},
   "outputs": [],
   "source": [
    "cols = {x: x.split(\":\")[1].strip() for x in df.columns if x.startswith(\"Python ecosystem:\") and \"?\" not in x}\n",
    "order = ((df[list(cols)] == \"Don't know what it is\") | (df[list(cols)] == \"Never\")).sum(axis=0).sort_values(ascending=False).index.tolist()\n",
    "pkgs = df[order].rename(columns=cols).apply(pandas.Series.value_counts).T[[\n",
    "    \"Don't know what it is\", \"Never\", \"Through dependencies only\", \"Regularly\", \"All the time\"\n",
    "]].fillna(0)\n",
    "pkgs.insert(0, \"No selection\", pkgs.sum(axis=1).max() - pkgs.sum(axis=1))\n",
    "pkgs.plot.barh(stacked=True, width=0.9, figsize=(20, 20), color=[\"#5e79e0\", \"#798bd1\", \"#992cc7\", \"#f5f518\", \"#ffa640\", \"#ff5a30\"]).legend(bbox_to_anchor=(1.2, 0.5));"
   ]
  },
  {
   "cell_type": "code",
   "execution_count": null,
   "metadata": {},
   "outputs": [],
   "source": [
    "cols = {x: x.split(\":\")[1].strip() for x in df.columns if x.startswith(\"Particle physics ecosystem:\") and \"?\" not in x}\n",
    "order = ((df[list(cols)] == \"Don't know what it is\") | (df[list(cols)] == \"Never\")).sum(axis=0).sort_values(ascending=False).index.tolist()\n",
    "pkgs = df[order].rename(columns=cols).apply(pandas.Series.value_counts).T[[\n",
    "    \"Don't know what it is\", \"Never\", \"Through dependencies only\", \"Regularly\", \"All the time\"\n",
    "]].fillna(0)\n",
    "pkgs.insert(0, \"No selection\", pkgs.sum(axis=1).max() - pkgs.sum(axis=1))\n",
    "pkgs.plot.barh(stacked=True, width=0.9, figsize=(20, 20), color=[\"#5e79e0\", \"#798bd1\", \"#992cc7\", \"#f5f518\", \"#ffa640\", \"#ff5a30\"]).legend(bbox_to_anchor=(1.2, 0.5));"
   ]
  },
  {
   "cell_type": "code",
   "execution_count": null,
   "metadata": {},
   "outputs": [],
   "source": [
    "hopes = [\n",
    "    \"Particle physics analysis tools (other than ROOT)\",\n",
    "    \"General-purpose data analysis toolkits\",\n",
    "    \"Machine learning/deep learning toolkits\",\n",
    "    \"Software engineering skills (beyond the fundamentals)\",\n",
    "    \"ROOT and PyROOT\",\n",
    "    \"Python fundamentals (how to program in Python)\",\n",
    "    \"Collaboration-specific topics\",\n",
    "    \"Other\",\n",
    "]\n",
    "def explode(responses):\n",
    "    responses = [response.strip() for response in responses.split(\";\")]\n",
    "    return [1.0 if hope in responses else 0.0 for hope in hopes]\n",
    "exploded = df[[\"PyHEP feedback: What are you hoping to learn from this workshop?\"]].fillna(\"\").applymap(explode)\n",
    "indicator = pandas.DataFrame(exploded.iloc[:, 0].tolist(), columns=hopes)\n",
    "indicator.div(indicator.sum(axis=1), axis=0).sum(axis=0).iloc[::-1].plot.barh(figsize=(5, 7));"
   ]
  },
  {
   "cell_type": "markdown",
   "metadata": {},
   "source": [
    "<br><br><br><br><br>\n",
    "\n",
    "## Conclusions:\n",
    "\n",
    "   1. You are mostly grad students and postdocs engaged in physics research.\n",
    "   2. You use Python and C++ about equally, but want to use Python more.\n",
    "   3. You are familiar with the major libraries of the Python world: NumPy, Matplotlib, machine learning.\n",
    "   4. You are less familiar with Python libraries intended for physics analysis.\n",
    "   5. But you want to learn.\n",
    "\n",
    "So let's get started!\n",
    "\n",
    "<br><br><br><br><br>"
   ]
  },
  {
   "cell_type": "markdown",
   "metadata": {},
   "source": [
    "<img src=\"img/uproot-logo-300px.png\" alt=\"Uproot\" width=\"300px\" style=\"margin-bottom: -50px; margin-right: 20px\"><font size=\"5\"> is a pure-Python implementation of ROOT I/O.</font>\n",
    "\n",
    "<br><br>\n",
    "\n",
    "<img src=\"img/abstraction-layers.png\" width=\"900px\">"
   ]
  },
  {
   "cell_type": "markdown",
   "metadata": {},
   "source": [
    "<img src=\"img/awkward-logo-600px.png\" alt=\"Uproot\" width=\"350px\" style=\"margin-bottom: -29px; margin-right: 20px\"><font size=\"5\"> is a generalization of NumPy to data structures (such as jagged arrays).</font>\n",
    "\n",
    "<br><br>\n",
    "\n",
    "<img src=\"img/cartoon-schematic.png\" width=\"1000px\">"
   ]
  },
  {
   "cell_type": "markdown",
   "metadata": {},
   "source": [
    "<br><br><br>\n",
    "\n",
    "# Interesting times!\n",
    "\n",
    "<font size=\"4\">We happen to be in the middle of a transition from <b>Uproot 3.x → Uproot 4.x</b> and <b>Awkward 0.x → Awkward 1.x</b>.</font>\n",
    "\n",
    "<img src=\"img/uproot-awkward-timeline.png\" width=\"900px\">\n",
    "\n",
    "<font size=\"4\">You can use both! Old and new versions are independently installable/importable.</font>\n",
    "\n",
    "<table style=\"font-size: 1.5em; font-weight: bold; margin-left: 0px\">\n",
    "    <tr style=\"background: white\"><td></td><td style=\"color: gray\">Now</td><td style=\"color: gray\">Later this year</td></tr>\n",
    "    <tr style=\"background: white\"><td style=\"color: gray\">Old versions</td><td style=\"color: blue\">uproot, awkward</td><td>uproot3, awkward0</td></tr>\n",
    "    <tr style=\"background: white\"><td style=\"color: gray\">New versions</td><td>uproot4, awkward1</td><td style=\"color: blue\">uproot, awkward</td></tr>\n",
    "</table>\n",
    "\n",
    "<img src=\"img/Raiders-of-the-Lost-Ark-Chamber.jpg\" width=\"800px\">\n",
    "\n",
    "<br><br><br><br><br>"
   ]
  },
  {
   "cell_type": "markdown",
   "metadata": {},
   "source": [
    "# What will this tutorial use?\n",
    "\n",
    "New versions of both: **Uproot 4** and **Awkward 1**. This tutorial is bleeding edge."
   ]
  }
 ],
 "metadata": {
  "kernelspec": {
   "display_name": "Python 3",
   "language": "python",
   "name": "python3"
  },
  "language_info": {
   "codemirror_mode": {
    "name": "ipython",
    "version": 3
   },
   "file_extension": ".py",
   "mimetype": "text/x-python",
   "name": "python",
   "nbconvert_exporter": "python",
   "pygments_lexer": "ipython3",
   "version": "3.7.6"
  }
 },
 "nbformat": 4,
 "nbformat_minor": 4
}
